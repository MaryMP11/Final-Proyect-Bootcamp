{
  "nbformat": 4,
  "nbformat_minor": 0,
  "metadata": {
    "colab": {
      "name": "PROYECTO_MODELOS.ipynb",
      "provenance": [],
      "collapsed_sections": []
    },
    "kernelspec": {
      "display_name": "Python 3",
      "name": "python3"
    },
    "language_info": {
      "name": "python"
    }
  },
  "cells": [
    {
      "cell_type": "code",
      "metadata": {
        "id": "jGK3GI1P-13P"
      },
      "source": [
        "# Cargando las librerías por categoría\n",
        "# data analysis and wrangling\n",
        "import pandas as pd\n",
        "import numpy as np\n",
        "import random as rnd\n",
        "\n",
        "# Generic\n",
        "import os\n",
        "import datetime\n",
        "import itertools\n",
        "import warnings\n",
        "warnings.filterwarnings(\"ignore\")\n",
        "\n",
        "# visualization\n",
        "import seaborn as sns\n",
        "from scipy.stats import norm\n",
        "import matplotlib.pyplot as plt\n",
        "%matplotlib inline\n",
        "\n",
        "# machine learning\n",
        "from sklearn.linear_model import LogisticRegression\n",
        "from sklearn.svm import SVC\n",
        "from sklearn.svm import LinearSVC\n",
        "from sklearn.ensemble import RandomForestClassifier\n",
        "from sklearn.neighbors import KNeighborsClassifier\n",
        "from sklearn.naive_bayes import GaussianNB\n",
        "from sklearn.linear_model import Perceptron\n",
        "from sklearn.linear_model import SGDClassifier\n",
        "from sklearn.tree import DecisionTreeClassifier\n",
        "from sklearn.discriminant_analysis import LinearDiscriminantAnalysis\n",
        "from sklearn.neural_network import MLPClassifier\n",
        "from sklearn import tree\n",
        "import xgboost as xgb\n",
        "## scikit modeling libraries\n",
        "from sklearn.ensemble import (RandomForestClassifier, AdaBoostClassifier,\n",
        "                             GradientBoostingClassifier, ExtraTreesClassifier,\n",
        "                             VotingClassifier)\n",
        "\n",
        "from sklearn.model_selection import (GridSearchCV, cross_val_score, cross_val_predict,\n",
        "                                     StratifiedKFold, learning_curve)\n",
        "\n",
        "## Load metrics for predictive modeling\n",
        "from sklearn.model_selection import train_test_split\n",
        "from sklearn.model_selection import cross_val_score\n",
        "from sklearn.metrics import classification_report\n",
        "from sklearn.metrics import confusion_matrix\n",
        "from sklearn.metrics import accuracy_score\n",
        "from sklearn.metrics import roc_curve, auc\n",
        "from sklearn.metrics import f1_score\n",
        "\n",
        "from sklearn.preprocessing import LabelEncoder\n",
        "\n",
        "import sklearn\n",
        "\n",
        "from sklearn.multiclass import OneVsRestClassifier\n",
        "from sklearn.multiclass import OneVsOneClassifier\n",
        "\n",
        "#Técnicas de rebalanceo\n",
        "from imblearn.over_sampling import SMOTE\n",
        "from collections import Counter\n",
        "from imblearn.under_sampling import NearMiss\n",
        "from imblearn.combine import SMOTETomek\n",
        "from imblearn.under_sampling import TomekLinks\n",
        "from imblearn.under_sampling import RandomUnderSampler\n",
        "from imblearn.over_sampling import RandomOverSampler\n",
        "\n",
        "import pickle"
      ],
      "execution_count": 1,
      "outputs": []
    },
    {
      "cell_type": "code",
      "source": [
        "#Cargamos los datos ya tratados tras el EDA\n",
        "ruta=(\"/content/Modelar_EDA.pkl\")\n",
        "df= pd.read_pickle(ruta)"
      ],
      "metadata": {
        "id": "eCWTZ_A7hDJS"
      },
      "execution_count": 5,
      "outputs": []
    },
    {
      "cell_type": "code",
      "source": [
        "df.head()"
      ],
      "metadata": {
        "colab": {
          "base_uri": "https://localhost:8080/",
          "height": 270
        },
        "id": "rjHBthHGh3Jx",
        "outputId": "f3156007-6ce0-4f03-8ba6-75239528bc05"
      },
      "execution_count": 6,
      "outputs": [
        {
          "output_type": "execute_result",
          "data": {
            "text/html": [
              "\n",
              "  <div id=\"df-9e732bdd-7af6-4ac0-8a72-40e03c09eb0f\">\n",
              "    <div class=\"colab-df-container\">\n",
              "      <div>\n",
              "<style scoped>\n",
              "    .dataframe tbody tr th:only-of-type {\n",
              "        vertical-align: middle;\n",
              "    }\n",
              "\n",
              "    .dataframe tbody tr th {\n",
              "        vertical-align: top;\n",
              "    }\n",
              "\n",
              "    .dataframe thead th {\n",
              "        text-align: right;\n",
              "    }\n",
              "</style>\n",
              "<table border=\"1\" class=\"dataframe\">\n",
              "  <thead>\n",
              "    <tr style=\"text-align: right;\">\n",
              "      <th></th>\n",
              "      <th>ID</th>\n",
              "      <th>X</th>\n",
              "      <th>Y</th>\n",
              "      <th>Q_R_4_0_0</th>\n",
              "      <th>Q_R_4_0_1</th>\n",
              "      <th>Q_R_4_0_2</th>\n",
              "      <th>Q_R_4_0_3</th>\n",
              "      <th>Q_R_4_0_4</th>\n",
              "      <th>Q_R_4_0_5</th>\n",
              "      <th>Q_R_4_0_6</th>\n",
              "      <th>Q_R_4_0_7</th>\n",
              "      <th>Q_R_4_0_8</th>\n",
              "      <th>Q_R_4_0_9</th>\n",
              "      <th>Q_R_4_1_0</th>\n",
              "      <th>Q_G_3_0_0</th>\n",
              "      <th>Q_G_3_0_1</th>\n",
              "      <th>Q_G_3_0_2</th>\n",
              "      <th>Q_G_3_0_3</th>\n",
              "      <th>Q_G_3_0_4</th>\n",
              "      <th>Q_G_3_0_5</th>\n",
              "      <th>Q_G_3_0_6</th>\n",
              "      <th>Q_G_3_0_7</th>\n",
              "      <th>Q_G_3_0_8</th>\n",
              "      <th>Q_G_3_0_9</th>\n",
              "      <th>Q_G_3_1_0</th>\n",
              "      <th>Q_B_2_0_0</th>\n",
              "      <th>Q_B_2_0_1</th>\n",
              "      <th>Q_B_2_0_2</th>\n",
              "      <th>Q_B_2_0_3</th>\n",
              "      <th>Q_B_2_0_4</th>\n",
              "      <th>Q_B_2_0_5</th>\n",
              "      <th>Q_B_2_0_6</th>\n",
              "      <th>Q_B_2_0_7</th>\n",
              "      <th>Q_B_2_0_8</th>\n",
              "      <th>Q_B_2_0_9</th>\n",
              "      <th>Q_B_2_1_0</th>\n",
              "      <th>Q_NIR_8_0_0</th>\n",
              "      <th>Q_NIR_8_0_1</th>\n",
              "      <th>Q_NIR_8_0_2</th>\n",
              "      <th>Q_NIR_8_0_3</th>\n",
              "      <th>Q_NIR_8_0_4</th>\n",
              "      <th>Q_NIR_8_0_5</th>\n",
              "      <th>Q_NIR_8_0_6</th>\n",
              "      <th>Q_NIR_8_0_7</th>\n",
              "      <th>Q_NIR_8_0_8</th>\n",
              "      <th>Q_NIR_8_0_9</th>\n",
              "      <th>Q_NIR_8_1_0</th>\n",
              "      <th>AREA</th>\n",
              "      <th>GEOM_R1</th>\n",
              "      <th>GEOM_R2</th>\n",
              "      <th>GEOM_R3</th>\n",
              "      <th>GEOM_R4</th>\n",
              "      <th>CONTRUCTIONYEAR</th>\n",
              "      <th>MAXBUILDINGFLOOR</th>\n",
              "      <th>CADASTRALQUALITYID</th>\n",
              "      <th>CLASE</th>\n",
              "    </tr>\n",
              "  </thead>\n",
              "  <tbody>\n",
              "    <tr>\n",
              "      <th>0</th>\n",
              "      <td>35984B9C3E7CD9A1</td>\n",
              "      <td>2207357872</td>\n",
              "      <td>165920300</td>\n",
              "      <td>0.000000</td>\n",
              "      <td>443.001300</td>\n",
              "      <td>616.001697</td>\n",
              "      <td>746.998401</td>\n",
              "      <td>872.996472</td>\n",
              "      <td>1009.000946</td>\n",
              "      <td>1159.002319</td>\n",
              "      <td>1342.002466</td>\n",
              "      <td>1572.003418</td>\n",
              "      <td>1943.686816</td>\n",
              "      <td>6512.787270</td>\n",
              "      <td>1.283357e-10</td>\n",
              "      <td>428.996347</td>\n",
              "      <td>574.000940</td>\n",
              "      <td>676.002960</td>\n",
              "      <td>778.003931</td>\n",
              "      <td>880.999176</td>\n",
              "      <td>997.000220</td>\n",
              "      <td>1130.001782</td>\n",
              "      <td>1311.997949</td>\n",
              "      <td>1626.996155</td>\n",
              "      <td>8627.098641</td>\n",
              "      <td>155.003632</td>\n",
              "      <td>402.000092</td>\n",
              "      <td>458.999939</td>\n",
              "      <td>510.000061</td>\n",
              "      <td>567.999939</td>\n",
              "      <td>632.000610</td>\n",
              "      <td>681.000916</td>\n",
              "      <td>726.109186</td>\n",
              "      <td>791.000269</td>\n",
              "      <td>902.999719</td>\n",
              "      <td>1980.172280</td>\n",
              "      <td>0.000013</td>\n",
              "      <td>892.016479</td>\n",
              "      <td>1244.014185</td>\n",
              "      <td>1497.998303</td>\n",
              "      <td>1731.204688</td>\n",
              "      <td>1944.003906</td>\n",
              "      <td>2160.996533</td>\n",
              "      <td>2410.995264</td>\n",
              "      <td>2719.999756</td>\n",
              "      <td>3180.000342</td>\n",
              "      <td>10951.926645</td>\n",
              "      <td>144.426900</td>\n",
              "      <td>0.557237</td>\n",
              "      <td>0.067249</td>\n",
              "      <td>0.057372</td>\n",
              "      <td>0.853127</td>\n",
              "      <td>2002.0</td>\n",
              "      <td>0.0</td>\n",
              "      <td>1</td>\n",
              "      <td>5</td>\n",
              "    </tr>\n",
              "    <tr>\n",
              "      <th>1</th>\n",
              "      <td>F9D04BF6D037F8FB</td>\n",
              "      <td>2189757160</td>\n",
              "      <td>165463267</td>\n",
              "      <td>0.000059</td>\n",
              "      <td>443.899011</td>\n",
              "      <td>627.999060</td>\n",
              "      <td>770.001611</td>\n",
              "      <td>904.999988</td>\n",
              "      <td>1032.998474</td>\n",
              "      <td>1165.001636</td>\n",
              "      <td>1316.000110</td>\n",
              "      <td>1505.990771</td>\n",
              "      <td>1804.993469</td>\n",
              "      <td>6269.935600</td>\n",
              "      <td>1.352518e-11</td>\n",
              "      <td>433.998392</td>\n",
              "      <td>565.000110</td>\n",
              "      <td>662.996521</td>\n",
              "      <td>746.001318</td>\n",
              "      <td>828.998413</td>\n",
              "      <td>912.000330</td>\n",
              "      <td>1011.997162</td>\n",
              "      <td>1142.202637</td>\n",
              "      <td>1384.994580</td>\n",
              "      <td>5357.790999</td>\n",
              "      <td>120.000275</td>\n",
              "      <td>419.000000</td>\n",
              "      <td>472.999939</td>\n",
              "      <td>509.999808</td>\n",
              "      <td>541.999976</td>\n",
              "      <td>572.000000</td>\n",
              "      <td>602.999939</td>\n",
              "      <td>636.000122</td>\n",
              "      <td>673.000122</td>\n",
              "      <td>745.000000</td>\n",
              "      <td>3647.195402</td>\n",
              "      <td>0.000030</td>\n",
              "      <td>846.002728</td>\n",
              "      <td>1139.006982</td>\n",
              "      <td>1363.993860</td>\n",
              "      <td>1558.000513</td>\n",
              "      <td>1749.993713</td>\n",
              "      <td>1956.000464</td>\n",
              "      <td>2194.001978</td>\n",
              "      <td>2507.001416</td>\n",
              "      <td>3012.991675</td>\n",
              "      <td>7048.367637</td>\n",
              "      <td>38.342550</td>\n",
              "      <td>0.709884</td>\n",
              "      <td>0.125156</td>\n",
              "      <td>0.147929</td>\n",
              "      <td>1.181953</td>\n",
              "      <td>1949.0</td>\n",
              "      <td>1.0</td>\n",
              "      <td>7</td>\n",
              "      <td>5</td>\n",
              "    </tr>\n",
              "    <tr>\n",
              "      <th>2</th>\n",
              "      <td>B89D5711AFF8C423</td>\n",
              "      <td>2240147335</td>\n",
              "      <td>165690752</td>\n",
              "      <td>0.000000</td>\n",
              "      <td>353.502274</td>\n",
              "      <td>523.003601</td>\n",
              "      <td>644.001831</td>\n",
              "      <td>760.997131</td>\n",
              "      <td>876.999634</td>\n",
              "      <td>1006.997498</td>\n",
              "      <td>1168.995544</td>\n",
              "      <td>1375.008179</td>\n",
              "      <td>1719.003235</td>\n",
              "      <td>5010.767611</td>\n",
              "      <td>0.000000e+00</td>\n",
              "      <td>379.001587</td>\n",
              "      <td>507.003815</td>\n",
              "      <td>600.000519</td>\n",
              "      <td>684.000488</td>\n",
              "      <td>768.997528</td>\n",
              "      <td>867.001587</td>\n",
              "      <td>992.991760</td>\n",
              "      <td>1165.998413</td>\n",
              "      <td>1443.000366</td>\n",
              "      <td>5240.232771</td>\n",
              "      <td>83.000389</td>\n",
              "      <td>363.000031</td>\n",
              "      <td>429.002502</td>\n",
              "      <td>473.000015</td>\n",
              "      <td>510.000092</td>\n",
              "      <td>549.000244</td>\n",
              "      <td>590.999939</td>\n",
              "      <td>635.999817</td>\n",
              "      <td>692.999817</td>\n",
              "      <td>796.498779</td>\n",
              "      <td>1947.739721</td>\n",
              "      <td>0.000005</td>\n",
              "      <td>807.001373</td>\n",
              "      <td>1124.002441</td>\n",
              "      <td>1365.009583</td>\n",
              "      <td>1570.995117</td>\n",
              "      <td>1768.992798</td>\n",
              "      <td>1978.989258</td>\n",
              "      <td>2228.999146</td>\n",
              "      <td>2561.999756</td>\n",
              "      <td>3088.000488</td>\n",
              "      <td>7013.073271</td>\n",
              "      <td>108.794384</td>\n",
              "      <td>0.517702</td>\n",
              "      <td>0.058268</td>\n",
              "      <td>0.081666</td>\n",
              "      <td>1.401552</td>\n",
              "      <td>1986.0</td>\n",
              "      <td>1.0</td>\n",
              "      <td>4</td>\n",
              "      <td>5</td>\n",
              "    </tr>\n",
              "    <tr>\n",
              "      <th>3</th>\n",
              "      <td>1C3478AC1522E7E4</td>\n",
              "      <td>2227146459</td>\n",
              "      <td>165934099</td>\n",
              "      <td>0.000000</td>\n",
              "      <td>268.000613</td>\n",
              "      <td>376.999609</td>\n",
              "      <td>478.003784</td>\n",
              "      <td>575.001233</td>\n",
              "      <td>683.997742</td>\n",
              "      <td>809.005994</td>\n",
              "      <td>955.002960</td>\n",
              "      <td>1136.997144</td>\n",
              "      <td>1447.997290</td>\n",
              "      <td>5465.430281</td>\n",
              "      <td>6.341585e-06</td>\n",
              "      <td>310.999088</td>\n",
              "      <td>405.998712</td>\n",
              "      <td>485.000607</td>\n",
              "      <td>558.997925</td>\n",
              "      <td>641.001007</td>\n",
              "      <td>731.994189</td>\n",
              "      <td>838.004376</td>\n",
              "      <td>974.797485</td>\n",
              "      <td>1217.996167</td>\n",
              "      <td>5343.168796</td>\n",
              "      <td>0.001450</td>\n",
              "      <td>256.999487</td>\n",
              "      <td>295.999969</td>\n",
              "      <td>329.000092</td>\n",
              "      <td>366.000043</td>\n",
              "      <td>411.000549</td>\n",
              "      <td>457.000061</td>\n",
              "      <td>506.000000</td>\n",
              "      <td>565.999817</td>\n",
              "      <td>663.999817</td>\n",
              "      <td>1424.396092</td>\n",
              "      <td>0.002285</td>\n",
              "      <td>1200.994470</td>\n",
              "      <td>1476.001294</td>\n",
              "      <td>1678.005042</td>\n",
              "      <td>1848.001782</td>\n",
              "      <td>2022.988464</td>\n",
              "      <td>2211.993506</td>\n",
              "      <td>2433.003687</td>\n",
              "      <td>2740.996582</td>\n",
              "      <td>3349.986328</td>\n",
              "      <td>6216.880538</td>\n",
              "      <td>155.224455</td>\n",
              "      <td>0.450871</td>\n",
              "      <td>0.053591</td>\n",
              "      <td>0.054201</td>\n",
              "      <td>1.011382</td>\n",
              "      <td>1999.0</td>\n",
              "      <td>1.0</td>\n",
              "      <td>1</td>\n",
              "      <td>5</td>\n",
              "    </tr>\n",
              "    <tr>\n",
              "      <th>4</th>\n",
              "      <td>4D12AA5009064345</td>\n",
              "      <td>2212350459</td>\n",
              "      <td>165681791</td>\n",
              "      <td>0.000000</td>\n",
              "      <td>318.997910</td>\n",
              "      <td>492.003845</td>\n",
              "      <td>632.999634</td>\n",
              "      <td>757.002197</td>\n",
              "      <td>882.999908</td>\n",
              "      <td>1019.008911</td>\n",
              "      <td>1175.993103</td>\n",
              "      <td>1401.000488</td>\n",
              "      <td>1756.994141</td>\n",
              "      <td>7376.529218</td>\n",
              "      <td>0.000000e+00</td>\n",
              "      <td>284.000534</td>\n",
              "      <td>421.002472</td>\n",
              "      <td>526.003815</td>\n",
              "      <td>618.998779</td>\n",
              "      <td>705.999268</td>\n",
              "      <td>801.005432</td>\n",
              "      <td>912.999451</td>\n",
              "      <td>1069.996094</td>\n",
              "      <td>1348.497314</td>\n",
              "      <td>7460.394534</td>\n",
              "      <td>193.000626</td>\n",
              "      <td>431.505035</td>\n",
              "      <td>462.999939</td>\n",
              "      <td>492.000061</td>\n",
              "      <td>519.000427</td>\n",
              "      <td>547.000061</td>\n",
              "      <td>578.999878</td>\n",
              "      <td>617.999603</td>\n",
              "      <td>662.999939</td>\n",
              "      <td>750.000488</td>\n",
              "      <td>1940.403140</td>\n",
              "      <td>0.000000</td>\n",
              "      <td>529.004425</td>\n",
              "      <td>790.996704</td>\n",
              "      <td>999.001617</td>\n",
              "      <td>1183.995239</td>\n",
              "      <td>1355.992920</td>\n",
              "      <td>1535.998779</td>\n",
              "      <td>1725.498962</td>\n",
              "      <td>1954.991455</td>\n",
              "      <td>2315.991455</td>\n",
              "      <td>7092.767616</td>\n",
              "      <td>1789.873366</td>\n",
              "      <td>0.458819</td>\n",
              "      <td>0.012858</td>\n",
              "      <td>0.019936</td>\n",
              "      <td>1.550478</td>\n",
              "      <td>1966.0</td>\n",
              "      <td>8.0</td>\n",
              "      <td>5</td>\n",
              "      <td>5</td>\n",
              "    </tr>\n",
              "  </tbody>\n",
              "</table>\n",
              "</div>\n",
              "      <button class=\"colab-df-convert\" onclick=\"convertToInteractive('df-9e732bdd-7af6-4ac0-8a72-40e03c09eb0f')\"\n",
              "              title=\"Convert this dataframe to an interactive table.\"\n",
              "              style=\"display:none;\">\n",
              "        \n",
              "  <svg xmlns=\"http://www.w3.org/2000/svg\" height=\"24px\"viewBox=\"0 0 24 24\"\n",
              "       width=\"24px\">\n",
              "    <path d=\"M0 0h24v24H0V0z\" fill=\"none\"/>\n",
              "    <path d=\"M18.56 5.44l.94 2.06.94-2.06 2.06-.94-2.06-.94-.94-2.06-.94 2.06-2.06.94zm-11 1L8.5 8.5l.94-2.06 2.06-.94-2.06-.94L8.5 2.5l-.94 2.06-2.06.94zm10 10l.94 2.06.94-2.06 2.06-.94-2.06-.94-.94-2.06-.94 2.06-2.06.94z\"/><path d=\"M17.41 7.96l-1.37-1.37c-.4-.4-.92-.59-1.43-.59-.52 0-1.04.2-1.43.59L10.3 9.45l-7.72 7.72c-.78.78-.78 2.05 0 2.83L4 21.41c.39.39.9.59 1.41.59.51 0 1.02-.2 1.41-.59l7.78-7.78 2.81-2.81c.8-.78.8-2.07 0-2.86zM5.41 20L4 18.59l7.72-7.72 1.47 1.35L5.41 20z\"/>\n",
              "  </svg>\n",
              "      </button>\n",
              "      \n",
              "  <style>\n",
              "    .colab-df-container {\n",
              "      display:flex;\n",
              "      flex-wrap:wrap;\n",
              "      gap: 12px;\n",
              "    }\n",
              "\n",
              "    .colab-df-convert {\n",
              "      background-color: #E8F0FE;\n",
              "      border: none;\n",
              "      border-radius: 50%;\n",
              "      cursor: pointer;\n",
              "      display: none;\n",
              "      fill: #1967D2;\n",
              "      height: 32px;\n",
              "      padding: 0 0 0 0;\n",
              "      width: 32px;\n",
              "    }\n",
              "\n",
              "    .colab-df-convert:hover {\n",
              "      background-color: #E2EBFA;\n",
              "      box-shadow: 0px 1px 2px rgba(60, 64, 67, 0.3), 0px 1px 3px 1px rgba(60, 64, 67, 0.15);\n",
              "      fill: #174EA6;\n",
              "    }\n",
              "\n",
              "    [theme=dark] .colab-df-convert {\n",
              "      background-color: #3B4455;\n",
              "      fill: #D2E3FC;\n",
              "    }\n",
              "\n",
              "    [theme=dark] .colab-df-convert:hover {\n",
              "      background-color: #434B5C;\n",
              "      box-shadow: 0px 1px 3px 1px rgba(0, 0, 0, 0.15);\n",
              "      filter: drop-shadow(0px 1px 2px rgba(0, 0, 0, 0.3));\n",
              "      fill: #FFFFFF;\n",
              "    }\n",
              "  </style>\n",
              "\n",
              "      <script>\n",
              "        const buttonEl =\n",
              "          document.querySelector('#df-9e732bdd-7af6-4ac0-8a72-40e03c09eb0f button.colab-df-convert');\n",
              "        buttonEl.style.display =\n",
              "          google.colab.kernel.accessAllowed ? 'block' : 'none';\n",
              "\n",
              "        async function convertToInteractive(key) {\n",
              "          const element = document.querySelector('#df-9e732bdd-7af6-4ac0-8a72-40e03c09eb0f');\n",
              "          const dataTable =\n",
              "            await google.colab.kernel.invokeFunction('convertToInteractive',\n",
              "                                                     [key], {});\n",
              "          if (!dataTable) return;\n",
              "\n",
              "          const docLinkHtml = 'Like what you see? Visit the ' +\n",
              "            '<a target=\"_blank\" href=https://colab.research.google.com/notebooks/data_table.ipynb>data table notebook</a>'\n",
              "            + ' to learn more about interactive tables.';\n",
              "          element.innerHTML = '';\n",
              "          dataTable['output_type'] = 'display_data';\n",
              "          await google.colab.output.renderOutput(dataTable, element);\n",
              "          const docLink = document.createElement('div');\n",
              "          docLink.innerHTML = docLinkHtml;\n",
              "          element.appendChild(docLink);\n",
              "        }\n",
              "      </script>\n",
              "    </div>\n",
              "  </div>\n",
              "  "
            ],
            "text/plain": [
              "                 ID           X  ...  CADASTRALQUALITYID  CLASE\n",
              "0  35984B9C3E7CD9A1  2207357872  ...                   1      5\n",
              "1  F9D04BF6D037F8FB  2189757160  ...                   7      5\n",
              "2  B89D5711AFF8C423  2240147335  ...                   4      5\n",
              "3  1C3478AC1522E7E4  2227146459  ...                   1      5\n",
              "4  4D12AA5009064345  2212350459  ...                   5      5\n",
              "\n",
              "[5 rows x 56 columns]"
            ]
          },
          "metadata": {},
          "execution_count": 6
        }
      ]
    },
    {
      "cell_type": "code",
      "metadata": {
        "colab": {
          "base_uri": "https://localhost:8080/"
        },
        "id": "3XBZPIz3eMxA",
        "outputId": "c48e30de-9e78-4bad-f52f-70340235ab34"
      },
      "source": [
        "df.shape "
      ],
      "execution_count": 8,
      "outputs": [
        {
          "output_type": "execute_result",
          "data": {
            "text/plain": [
              "(36392, 56)"
            ]
          },
          "metadata": {},
          "execution_count": 8
        }
      ]
    },
    {
      "cell_type": "code",
      "metadata": {
        "colab": {
          "base_uri": "https://localhost:8080/"
        },
        "id": "6HneL4gFK7c3",
        "outputId": "296b9b7f-fe1f-405e-dc26-9f1010c8a1db"
      },
      "source": [
        "df.size "
      ],
      "execution_count": 9,
      "outputs": [
        {
          "output_type": "execute_result",
          "data": {
            "text/plain": [
              "2037952"
            ]
          },
          "metadata": {},
          "execution_count": 9
        }
      ]
    },
    {
      "cell_type": "code",
      "metadata": {
        "colab": {
          "base_uri": "https://localhost:8080/"
        },
        "id": "JTIyhdzFG74U",
        "outputId": "9de01fa8-cd35-47f0-8f0c-8720325e6b90"
      },
      "source": [
        "df.info()"
      ],
      "execution_count": 11,
      "outputs": [
        {
          "output_type": "stream",
          "name": "stdout",
          "text": [
            "<class 'pandas.core.frame.DataFrame'>\n",
            "Int64Index: 36392 entries, 0 to 36398\n",
            "Data columns (total 56 columns):\n",
            " #   Column              Non-Null Count  Dtype  \n",
            "---  ------              --------------  -----  \n",
            " 0   ID                  36392 non-null  object \n",
            " 1   X                   36392 non-null  int64  \n",
            " 2   Y                   36392 non-null  int64  \n",
            " 3   Q_R_4_0_0           36392 non-null  float64\n",
            " 4   Q_R_4_0_1           36392 non-null  float64\n",
            " 5   Q_R_4_0_2           36392 non-null  float64\n",
            " 6   Q_R_4_0_3           36392 non-null  float64\n",
            " 7   Q_R_4_0_4           36392 non-null  float64\n",
            " 8   Q_R_4_0_5           36392 non-null  float64\n",
            " 9   Q_R_4_0_6           36392 non-null  float64\n",
            " 10  Q_R_4_0_7           36392 non-null  float64\n",
            " 11  Q_R_4_0_8           36392 non-null  float64\n",
            " 12  Q_R_4_0_9           36392 non-null  float64\n",
            " 13  Q_R_4_1_0           36392 non-null  float64\n",
            " 14  Q_G_3_0_0           36392 non-null  float64\n",
            " 15  Q_G_3_0_1           36392 non-null  float64\n",
            " 16  Q_G_3_0_2           36392 non-null  float64\n",
            " 17  Q_G_3_0_3           36392 non-null  float64\n",
            " 18  Q_G_3_0_4           36392 non-null  float64\n",
            " 19  Q_G_3_0_5           36392 non-null  float64\n",
            " 20  Q_G_3_0_6           36392 non-null  float64\n",
            " 21  Q_G_3_0_7           36392 non-null  float64\n",
            " 22  Q_G_3_0_8           36392 non-null  float64\n",
            " 23  Q_G_3_0_9           36392 non-null  float64\n",
            " 24  Q_G_3_1_0           36392 non-null  float64\n",
            " 25  Q_B_2_0_0           36392 non-null  float64\n",
            " 26  Q_B_2_0_1           36392 non-null  float64\n",
            " 27  Q_B_2_0_2           36392 non-null  float64\n",
            " 28  Q_B_2_0_3           36392 non-null  float64\n",
            " 29  Q_B_2_0_4           36392 non-null  float64\n",
            " 30  Q_B_2_0_5           36392 non-null  float64\n",
            " 31  Q_B_2_0_6           36392 non-null  float64\n",
            " 32  Q_B_2_0_7           36392 non-null  float64\n",
            " 33  Q_B_2_0_8           36392 non-null  float64\n",
            " 34  Q_B_2_0_9           36392 non-null  float64\n",
            " 35  Q_B_2_1_0           36392 non-null  float64\n",
            " 36  Q_NIR_8_0_0         36392 non-null  float64\n",
            " 37  Q_NIR_8_0_1         36392 non-null  float64\n",
            " 38  Q_NIR_8_0_2         36392 non-null  float64\n",
            " 39  Q_NIR_8_0_3         36392 non-null  float64\n",
            " 40  Q_NIR_8_0_4         36392 non-null  float64\n",
            " 41  Q_NIR_8_0_5         36392 non-null  float64\n",
            " 42  Q_NIR_8_0_6         36392 non-null  float64\n",
            " 43  Q_NIR_8_0_7         36392 non-null  float64\n",
            " 44  Q_NIR_8_0_8         36392 non-null  float64\n",
            " 45  Q_NIR_8_0_9         36392 non-null  float64\n",
            " 46  Q_NIR_8_1_0         36392 non-null  float64\n",
            " 47  AREA                36392 non-null  float64\n",
            " 48  GEOM_R1             36392 non-null  float64\n",
            " 49  GEOM_R2             36392 non-null  float64\n",
            " 50  GEOM_R3             36392 non-null  float64\n",
            " 51  GEOM_R4             36392 non-null  float64\n",
            " 52  CONTRUCTIONYEAR     36392 non-null  float64\n",
            " 53  MAXBUILDINGFLOOR    36392 non-null  float64\n",
            " 54  CADASTRALQUALITYID  36392 non-null  int64  \n",
            " 55  CLASE               36392 non-null  int64  \n",
            "dtypes: float64(51), int64(4), object(1)\n",
            "memory usage: 15.8+ MB\n"
          ]
        }
      ]
    },
    {
      "cell_type": "code",
      "metadata": {
        "id": "JMD9cKz1-5Yh"
      },
      "source": [
        "#Creamos las variables X  e Y\n",
        "X=df.drop(['ID','GEOM_R1','GEOM_R2','GEOM_R3','GEOM_R4'],axis=1)\n",
        "y=df['CLASE']"
      ],
      "execution_count": 12,
      "outputs": []
    },
    {
      "cell_type": "code",
      "metadata": {
        "id": "X3dRxVsFFtgv"
      },
      "source": [
        "#Separamos los datos en proporcion 80/20 (train/test)\n",
        "X_train, X_test, y_train, y_test = train_test_split(\n",
        "    X, y, test_size=0.20)"
      ],
      "execution_count": 13,
      "outputs": []
    },
    {
      "cell_type": "markdown",
      "source": [
        "Creación de modelos mediante la utilización de distintos clasificadores"
      ],
      "metadata": {
        "id": "DqH9tXbOiTBJ"
      }
    },
    {
      "cell_type": "code",
      "metadata": {
        "colab": {
          "base_uri": "https://localhost:8080/"
        },
        "id": "MiJNDVVm-5bI",
        "outputId": "b85117cb-1350-4f33-d34d-3f0af624ed64"
      },
      "source": [
        "#Aplicamos el clasificador de árbol de decisión\n",
        "clf_ros = tree.DecisionTreeClassifier()\n",
        "clf_ros.fit(X_train, y_train)"
      ],
      "execution_count": 14,
      "outputs": [
        {
          "output_type": "execute_result",
          "data": {
            "text/plain": [
              "DecisionTreeClassifier()"
            ]
          },
          "metadata": {},
          "execution_count": 14
        }
      ]
    },
    {
      "cell_type": "code",
      "metadata": {
        "id": "d27iEVvE-5de"
      },
      "source": [
        "#Creamos la variable de predicción con el modelo creado\n",
        "predicted_log_ros = clf_ros.predict(X_test)"
      ],
      "execution_count": 15,
      "outputs": []
    },
    {
      "cell_type": "code",
      "metadata": {
        "colab": {
          "base_uri": "https://localhost:8080/"
        },
        "id": "S_tLoDWv-5gQ",
        "outputId": "554d0e98-383f-4a24-87d4-8cd4a145fb1a"
      },
      "source": [
        "# Cáluclo del score\n",
        "logreg_score_ros = round(clf_ros.score(X_train,y_train) * 100, 2)\n",
        "\n",
        "print(logreg_score_ros)\n",
        "\n",
        "print(classification_report(y_test, predicted_log_ros))"
      ],
      "execution_count": 16,
      "outputs": [
        {
          "output_type": "stream",
          "name": "stdout",
          "text": [
            "100.0\n",
            "              precision    recall  f1-score   support\n",
            "\n",
            "           0       1.00      1.00      1.00        23\n",
            "           1       1.00      1.00      1.00       311\n",
            "           2       1.00      1.00      1.00       137\n",
            "           3       1.00      1.00      1.00        97\n",
            "           4       1.00      1.00      1.00       216\n",
            "           5       1.00      1.00      1.00      6354\n",
            "           6       1.00      1.00      1.00       141\n",
            "\n",
            "    accuracy                           1.00      7279\n",
            "   macro avg       1.00      1.00      1.00      7279\n",
            "weighted avg       1.00      1.00      1.00      7279\n",
            "\n"
          ]
        }
      ]
    },
    {
      "cell_type": "code",
      "metadata": {
        "colab": {
          "base_uri": "https://localhost:8080/"
        },
        "id": "0H5rLdQR-5lQ",
        "outputId": "8aa25f13-4e64-4b63-bc5e-05464f805887"
      },
      "source": [
        "#Aplicación del clasificador de k vecinos\n",
        "model = KNeighborsClassifier(3).fit(X_train, y_train)\n",
        "model"
      ],
      "execution_count": 17,
      "outputs": [
        {
          "output_type": "execute_result",
          "data": {
            "text/plain": [
              "KNeighborsClassifier(n_neighbors=3)"
            ]
          },
          "metadata": {},
          "execution_count": 17
        }
      ]
    },
    {
      "cell_type": "code",
      "metadata": {
        "colab": {
          "base_uri": "https://localhost:8080/"
        },
        "id": "VzRltoEi_dln",
        "outputId": "b36a2fd4-7268-4f82-929a-33256aa293ea"
      },
      "source": [
        "predicted_knn = model.predict(X_test)\n",
        "predicted_knn"
      ],
      "execution_count": 18,
      "outputs": [
        {
          "output_type": "execute_result",
          "data": {
            "text/plain": [
              "array([5, 5, 5, ..., 5, 5, 5])"
            ]
          },
          "metadata": {},
          "execution_count": 18
        }
      ]
    },
    {
      "cell_type": "code",
      "metadata": {
        "colab": {
          "base_uri": "https://localhost:8080/"
        },
        "id": "EcWIl-sg_don",
        "outputId": "d56d17fb-eb21-41f8-f16c-48bb5d1ceecb"
      },
      "source": [
        "# Confidence score\n",
        "knn_score_2 = round(model.score(X_train,y_train) * 100, 2)\n",
        "print(knn_score_2)\n",
        "print(classification_report(y_test, predicted_knn))"
      ],
      "execution_count": 19,
      "outputs": [
        {
          "output_type": "stream",
          "name": "stdout",
          "text": [
            "90.41\n",
            "              precision    recall  f1-score   support\n",
            "\n",
            "           0       0.27      0.17      0.21        23\n",
            "           1       0.50      0.38      0.43       311\n",
            "           2       0.14      0.06      0.08       137\n",
            "           3       0.05      0.02      0.03        97\n",
            "           4       0.10      0.02      0.03       216\n",
            "           5       0.90      0.97      0.93      6354\n",
            "           6       0.29      0.04      0.06       141\n",
            "\n",
            "    accuracy                           0.87      7279\n",
            "   macro avg       0.32      0.24      0.25      7279\n",
            "weighted avg       0.82      0.87      0.84      7279\n",
            "\n"
          ]
        }
      ]
    },
    {
      "cell_type": "code",
      "metadata": {
        "colab": {
          "base_uri": "https://localhost:8080/"
        },
        "id": "QGwNjA9F_drO",
        "outputId": "9530cb31-2a64-41b7-a7ba-cd050030ecf6"
      },
      "source": [
        "model.score(X_test,y_test)"
      ],
      "execution_count": 20,
      "outputs": [
        {
          "output_type": "execute_result",
          "data": {
            "text/plain": [
              "0.8660530292622614"
            ]
          },
          "metadata": {},
          "execution_count": 20
        }
      ]
    },
    {
      "cell_type": "code",
      "metadata": {
        "colab": {
          "base_uri": "https://localhost:8080/"
        },
        "id": "aLZq9hRx_dt3",
        "outputId": "bf37c15f-b98e-484e-d9bc-0092b82a6d87"
      },
      "source": [
        "#Clasificación por GradientBoost\n",
        "import xgboost as xgb\n",
        "clf = xgb.XGBClassifier(max_depth=5, n_estimators=100, \n",
        "                        num_classes=7)\n",
        "\n",
        "clf.fit(X_train, y_train)  "
      ],
      "execution_count": 21,
      "outputs": [
        {
          "output_type": "execute_result",
          "data": {
            "text/plain": [
              "XGBClassifier(max_depth=5, num_classes=7, objective='multi:softprob')"
            ]
          },
          "metadata": {},
          "execution_count": 21
        }
      ]
    },
    {
      "cell_type": "code",
      "metadata": {
        "colab": {
          "base_uri": "https://localhost:8080/"
        },
        "id": "u9fXFA_L_dxN",
        "outputId": "e100801c-73c3-4e73-aa81-5c0afc11d152"
      },
      "source": [
        "predicted_gb_mc = clf.predict(X_test)\n",
        "predicted_gb_mc"
      ],
      "execution_count": 22,
      "outputs": [
        {
          "output_type": "execute_result",
          "data": {
            "text/plain": [
              "array([5, 5, 5, ..., 5, 5, 4])"
            ]
          },
          "metadata": {},
          "execution_count": 22
        }
      ]
    },
    {
      "cell_type": "code",
      "metadata": {
        "colab": {
          "base_uri": "https://localhost:8080/"
        },
        "id": "7YltCcrK_d0l",
        "outputId": "72ead659-bc86-46b5-f459-8bb32505641a"
      },
      "source": [
        "clf.score(X_test,y_test)"
      ],
      "execution_count": 23,
      "outputs": [
        {
          "output_type": "execute_result",
          "data": {
            "text/plain": [
              "1.0"
            ]
          },
          "metadata": {},
          "execution_count": 23
        }
      ]
    },
    {
      "cell_type": "code",
      "metadata": {
        "colab": {
          "base_uri": "https://localhost:8080/"
        },
        "id": "Qt4iDFkCLHWJ",
        "outputId": "f6748fc8-2784-4578-cf5a-4c1ab99d2432"
      },
      "source": [
        "print(classification_report(y_test, predicted_gb_mc))"
      ],
      "execution_count": 24,
      "outputs": [
        {
          "output_type": "stream",
          "name": "stdout",
          "text": [
            "              precision    recall  f1-score   support\n",
            "\n",
            "           0       1.00      1.00      1.00        23\n",
            "           1       1.00      1.00      1.00       311\n",
            "           2       1.00      1.00      1.00       137\n",
            "           3       1.00      1.00      1.00        97\n",
            "           4       1.00      1.00      1.00       216\n",
            "           5       1.00      1.00      1.00      6354\n",
            "           6       1.00      1.00      1.00       141\n",
            "\n",
            "    accuracy                           1.00      7279\n",
            "   macro avg       1.00      1.00      1.00      7279\n",
            "weighted avg       1.00      1.00      1.00      7279\n",
            "\n"
          ]
        }
      ]
    },
    {
      "cell_type": "code",
      "metadata": {
        "colab": {
          "base_uri": "https://localhost:8080/"
        },
        "id": "8KDoUGgA_d3r",
        "outputId": "1c0bee14-19a0-4e8e-ff67-0f834d1c1dc6"
      },
      "source": [
        "# Linear Discriminant Analysis - default\n",
        "LDA_Model = LinearDiscriminantAnalysis()\n",
        "\n",
        "scores = cross_val_score(LDA_Model, X_train, y_train,\n",
        "                         n_jobs=4, scoring='accuracy')\n",
        "\n",
        "print(scores)\n",
        "round(np.mean(scores)*100, 2)"
      ],
      "execution_count": 25,
      "outputs": [
        {
          "output_type": "stream",
          "name": "stdout",
          "text": [
            "[0.87291774 0.87291774 0.86707883 0.86808657 0.87083476]\n"
          ]
        },
        {
          "output_type": "execute_result",
          "data": {
            "text/plain": [
              "87.04"
            ]
          },
          "metadata": {},
          "execution_count": 25
        }
      ]
    },
    {
      "cell_type": "code",
      "metadata": {
        "colab": {
          "base_uri": "https://localhost:8080/"
        },
        "id": "NVMRrUwSMzQd",
        "outputId": "7c35dd77-b12b-455c-9b85-be6d94581a7a"
      },
      "source": [
        "# Linear Discriminant Analysis - f1 macro\n",
        "LDA_Model = LinearDiscriminantAnalysis()\n",
        "\n",
        "scores = cross_val_score(LDA_Model, X_train, y_train,\n",
        "                         n_jobs=4, scoring='f1_macro')\n",
        "\n",
        "print(scores)\n",
        "round(np.mean(scores)*100, 2)"
      ],
      "execution_count": 26,
      "outputs": [
        {
          "output_type": "stream",
          "name": "stdout",
          "text": [
            "[0.26357165 0.27414303 0.25425756 0.2938685  0.29415921]\n"
          ]
        },
        {
          "output_type": "execute_result",
          "data": {
            "text/plain": [
              "27.6"
            ]
          },
          "metadata": {},
          "execution_count": 26
        }
      ]
    },
    {
      "cell_type": "code",
      "metadata": {
        "colab": {
          "base_uri": "https://localhost:8080/"
        },
        "id": "T7iKn4vjOVch",
        "outputId": "e50082b7-491e-49ac-a91b-6cb706ca1d1f"
      },
      "source": [
        "# Linear Discriminant Analysis - f1 weighted\n",
        "LDA_Model = LinearDiscriminantAnalysis()\n",
        "\n",
        "scores = cross_val_score(LDA_Model, X_train, y_train,\n",
        "                         n_jobs=4, scoring='f1_weighted')\n",
        "\n",
        "print(scores)\n",
        "round(np.mean(scores)*100, 2)"
      ],
      "execution_count": 27,
      "outputs": [
        {
          "output_type": "stream",
          "name": "stdout",
          "text": [
            "[0.84231033 0.84291076 0.83999207 0.84107839 0.84430505]\n"
          ]
        },
        {
          "output_type": "execute_result",
          "data": {
            "text/plain": [
              "84.21"
            ]
          },
          "metadata": {},
          "execution_count": 27
        }
      ]
    },
    {
      "cell_type": "code",
      "metadata": {
        "colab": {
          "base_uri": "https://localhost:8080/"
        },
        "id": "d7PdcU9DN7rw",
        "outputId": "5d330b23-6a71-47bd-a80d-8274e9a791a3"
      },
      "source": [
        "#Comprobamos los tipos de métricas que podemos utilizar para evaluar los modelos\n",
        "sorted(sklearn.metrics.SCORERS.keys())"
      ],
      "execution_count": 28,
      "outputs": [
        {
          "output_type": "execute_result",
          "data": {
            "text/plain": [
              "['accuracy',\n",
              " 'adjusted_mutual_info_score',\n",
              " 'adjusted_rand_score',\n",
              " 'average_precision',\n",
              " 'balanced_accuracy',\n",
              " 'completeness_score',\n",
              " 'explained_variance',\n",
              " 'f1',\n",
              " 'f1_macro',\n",
              " 'f1_micro',\n",
              " 'f1_samples',\n",
              " 'f1_weighted',\n",
              " 'fowlkes_mallows_score',\n",
              " 'homogeneity_score',\n",
              " 'jaccard',\n",
              " 'jaccard_macro',\n",
              " 'jaccard_micro',\n",
              " 'jaccard_samples',\n",
              " 'jaccard_weighted',\n",
              " 'max_error',\n",
              " 'mutual_info_score',\n",
              " 'neg_brier_score',\n",
              " 'neg_log_loss',\n",
              " 'neg_mean_absolute_error',\n",
              " 'neg_mean_absolute_percentage_error',\n",
              " 'neg_mean_gamma_deviance',\n",
              " 'neg_mean_poisson_deviance',\n",
              " 'neg_mean_squared_error',\n",
              " 'neg_mean_squared_log_error',\n",
              " 'neg_median_absolute_error',\n",
              " 'neg_root_mean_squared_error',\n",
              " 'normalized_mutual_info_score',\n",
              " 'precision',\n",
              " 'precision_macro',\n",
              " 'precision_micro',\n",
              " 'precision_samples',\n",
              " 'precision_weighted',\n",
              " 'r2',\n",
              " 'rand_score',\n",
              " 'recall',\n",
              " 'recall_macro',\n",
              " 'recall_micro',\n",
              " 'recall_samples',\n",
              " 'recall_weighted',\n",
              " 'roc_auc',\n",
              " 'roc_auc_ovo',\n",
              " 'roc_auc_ovo_weighted',\n",
              " 'roc_auc_ovr',\n",
              " 'roc_auc_ovr_weighted',\n",
              " 'top_k_accuracy',\n",
              " 'v_measure_score']"
            ]
          },
          "metadata": {},
          "execution_count": 28
        }
      ]
    },
    {
      "cell_type": "code",
      "metadata": {
        "colab": {
          "base_uri": "https://localhost:8080/"
        },
        "id": "r-tPac1jL5de",
        "outputId": "43842a84-f093-4654-ba3d-7cbaa76d8542"
      },
      "source": [
        "#Ajustamos los datos al modelo de LDA\n",
        "LDA_Model.fit(X_train, y_train)"
      ],
      "execution_count": 29,
      "outputs": [
        {
          "output_type": "execute_result",
          "data": {
            "text/plain": [
              "LinearDiscriminantAnalysis()"
            ]
          },
          "metadata": {},
          "execution_count": 29
        }
      ]
    },
    {
      "cell_type": "code",
      "metadata": {
        "colab": {
          "base_uri": "https://localhost:8080/"
        },
        "id": "MKteml2_MQgN",
        "outputId": "545bdca1-d892-4374-d043-f0931aeffba4"
      },
      "source": [
        "predicted_lda = LDA_Model.predict(X_test)\n",
        "predicted_lda"
      ],
      "execution_count": 30,
      "outputs": [
        {
          "output_type": "execute_result",
          "data": {
            "text/plain": [
              "array([5, 5, 5, ..., 5, 5, 5])"
            ]
          },
          "metadata": {},
          "execution_count": 30
        }
      ]
    },
    {
      "cell_type": "code",
      "metadata": {
        "colab": {
          "base_uri": "https://localhost:8080/"
        },
        "id": "frpnVF4tMQ0O",
        "outputId": "f5100c79-e7bd-4660-d2ef-ae30450342fa"
      },
      "source": [
        "# Confidence score aplicado al y_test (LDA)\n",
        "logreg_score = round(LDA_Model.score(X_train,y_train) * 100, 2)\n",
        "\n",
        "print(logreg_score)\n",
        "\n",
        "print(classification_report(y_test, predicted_lda))"
      ],
      "execution_count": 31,
      "outputs": [
        {
          "output_type": "stream",
          "name": "stdout",
          "text": [
            "87.19\n",
            "              precision    recall  f1-score   support\n",
            "\n",
            "           0       0.42      0.65      0.51        23\n",
            "           1       0.39      0.43      0.41       311\n",
            "           2       0.00      0.00      0.00       137\n",
            "           3       0.26      0.15      0.19        97\n",
            "           4       0.19      0.03      0.05       216\n",
            "           5       0.91      0.97      0.94      6354\n",
            "           6       0.00      0.00      0.00       141\n",
            "\n",
            "    accuracy                           0.87      7279\n",
            "   macro avg       0.31      0.32      0.30      7279\n",
            "weighted avg       0.82      0.87      0.84      7279\n",
            "\n"
          ]
        }
      ]
    },
    {
      "cell_type": "code",
      "metadata": {
        "colab": {
          "base_uri": "https://localhost:8080/"
        },
        "id": "6DoIJ2OH_d6o",
        "outputId": "e79891f0-9a75-465c-eabe-b1845b2923a9"
      },
      "source": [
        "# Logistic Regression - default\n",
        "lr_Model = LogisticRegression()\n",
        "\n",
        "scores = cross_val_score(lr_Model, X_train, y_train,\n",
        "                         n_jobs=4, scoring='accuracy')\n",
        "\n",
        "print(scores)\n",
        "round(np.mean(scores)*100, 2)"
      ],
      "execution_count": 32,
      "outputs": [
        {
          "output_type": "stream",
          "name": "stdout",
          "text": [
            "[0.87566546 0.87549373 0.87549373 0.87564411 0.87564411]\n"
          ]
        },
        {
          "output_type": "execute_result",
          "data": {
            "text/plain": [
              "87.56"
            ]
          },
          "metadata": {},
          "execution_count": 32
        }
      ]
    },
    {
      "cell_type": "code",
      "metadata": {
        "id": "Cgc_yLhhuSRv"
      },
      "source": [
        "lr_model = LogisticRegression(random_state=0).fit(X_train, y_train)"
      ],
      "execution_count": 33,
      "outputs": []
    },
    {
      "cell_type": "code",
      "metadata": {
        "colab": {
          "base_uri": "https://localhost:8080/"
        },
        "id": "ZjzUFC_quS5A",
        "outputId": "c9912892-c023-4469-8ac6-f765ee10a97a"
      },
      "source": [
        "predicted_lr = lr_model.predict(X_test)\n",
        "predicted_lr"
      ],
      "execution_count": 34,
      "outputs": [
        {
          "output_type": "execute_result",
          "data": {
            "text/plain": [
              "array([5, 5, 5, ..., 5, 5, 5])"
            ]
          },
          "metadata": {},
          "execution_count": 34
        }
      ]
    },
    {
      "cell_type": "code",
      "metadata": {
        "colab": {
          "base_uri": "https://localhost:8080/"
        },
        "id": "7ZDOtctJuTdF",
        "outputId": "1227e408-be7e-4b7e-c9a2-58edad4442a8"
      },
      "source": [
        "# Confidence score aplicado al y_test (Logistic Regression)\n",
        "logreg_score = round(lr_model.score(X_train,y_train) * 100, 2)\n",
        "\n",
        "print(logreg_score)\n",
        "\n",
        "print(classification_report(y_test, predicted_lr))"
      ],
      "execution_count": 35,
      "outputs": [
        {
          "output_type": "stream",
          "name": "stdout",
          "text": [
            "87.56\n",
            "              precision    recall  f1-score   support\n",
            "\n",
            "           0       0.00      0.00      0.00        23\n",
            "           1       0.00      0.00      0.00       311\n",
            "           2       0.00      0.00      0.00       137\n",
            "           3       0.00      0.00      0.00        97\n",
            "           4       0.00      0.00      0.00       216\n",
            "           5       0.87      1.00      0.93      6354\n",
            "           6       0.00      0.00      0.00       141\n",
            "\n",
            "    accuracy                           0.87      7279\n",
            "   macro avg       0.12      0.14      0.13      7279\n",
            "weighted avg       0.76      0.87      0.81      7279\n",
            "\n"
          ]
        }
      ]
    },
    {
      "cell_type": "code",
      "metadata": {
        "id": "VbsomWJeuT4N",
        "colab": {
          "base_uri": "https://localhost:8080/"
        },
        "outputId": "738a091f-ccde-4d18-bd1f-449f91018d1c"
      },
      "source": [
        "# Logistic Regression - f1_weighted\n",
        "lr_Model_2 = LogisticRegression()\n",
        "\n",
        "scores = cross_val_score(lr_Model_2, X_train, y_train,\n",
        "                         n_jobs=4, scoring='f1_weighted')\n",
        "\n",
        "print(scores)\n",
        "round(np.mean(scores)*100, 2)"
      ],
      "execution_count": 36,
      "outputs": [
        {
          "output_type": "stream",
          "name": "stdout",
          "text": [
            "[0.81761915 0.81737333 0.81737333 0.81758858 0.81758858]\n"
          ]
        },
        {
          "output_type": "execute_result",
          "data": {
            "text/plain": [
              "81.75"
            ]
          },
          "metadata": {},
          "execution_count": 36
        }
      ]
    },
    {
      "cell_type": "code",
      "metadata": {
        "id": "Mg7e_wUnPJNU"
      },
      "source": [
        "lr_model_2 = LogisticRegression(random_state=0).fit(X_train, y_train)"
      ],
      "execution_count": 37,
      "outputs": []
    },
    {
      "cell_type": "code",
      "metadata": {
        "colab": {
          "base_uri": "https://localhost:8080/"
        },
        "id": "1HXlTQDpPKr7",
        "outputId": "c04aa36a-4bbb-4898-b2c2-88f069df3393"
      },
      "source": [
        "predicted_lr = lr_model_2.predict(X_test)\n",
        "predicted_lr"
      ],
      "execution_count": 38,
      "outputs": [
        {
          "output_type": "execute_result",
          "data": {
            "text/plain": [
              "array([5, 5, 5, ..., 5, 5, 5])"
            ]
          },
          "metadata": {},
          "execution_count": 38
        }
      ]
    },
    {
      "cell_type": "code",
      "metadata": {
        "colab": {
          "base_uri": "https://localhost:8080/"
        },
        "id": "vvFDU9_3PLFs",
        "outputId": "152e36ab-2ca4-46b7-ea4e-1f385f0ecdb5"
      },
      "source": [
        "# Confidence score aplicado al y_test (Logistic Regression)\n",
        "logreg_score = round(lr_model_2.score(X_train,y_train) * 100, 2)\n",
        "\n",
        "print(logreg_score)\n",
        "\n",
        "print(classification_report(y_test, predicted_lr))"
      ],
      "execution_count": 39,
      "outputs": [
        {
          "output_type": "stream",
          "name": "stdout",
          "text": [
            "87.56\n",
            "              precision    recall  f1-score   support\n",
            "\n",
            "           0       0.00      0.00      0.00        23\n",
            "           1       0.00      0.00      0.00       311\n",
            "           2       0.00      0.00      0.00       137\n",
            "           3       0.00      0.00      0.00        97\n",
            "           4       0.00      0.00      0.00       216\n",
            "           5       0.87      1.00      0.93      6354\n",
            "           6       0.00      0.00      0.00       141\n",
            "\n",
            "    accuracy                           0.87      7279\n",
            "   macro avg       0.12      0.14      0.13      7279\n",
            "weighted avg       0.76      0.87      0.81      7279\n",
            "\n"
          ]
        }
      ]
    },
    {
      "cell_type": "code",
      "metadata": {
        "colab": {
          "base_uri": "https://localhost:8080/"
        },
        "id": "2oBfjciq_d9o",
        "outputId": "f905ef4f-9a10-40ac-ba8b-17e45bd2a483"
      },
      "source": [
        "# Random Forest Classifier Model - default\n",
        "\n",
        "RFC_model = RandomForestClassifier(n_estimators=10)\n",
        "scores = cross_val_score(RFC_model, X_train, y_train, \n",
        "                        n_jobs=4, scoring='accuracy')\n",
        "\n",
        "print(scores)\n",
        "round(np.mean(scores)*100, 2)"
      ],
      "execution_count": 40,
      "outputs": [
        {
          "output_type": "stream",
          "name": "stdout",
          "text": [
            "[0.98626138 0.97733127 0.98712004 0.9881484  0.98282377]\n"
          ]
        },
        {
          "output_type": "execute_result",
          "data": {
            "text/plain": [
              "98.43"
            ]
          },
          "metadata": {},
          "execution_count": 40
        }
      ]
    },
    {
      "cell_type": "code",
      "metadata": {
        "id": "6t7B6obJvWT_"
      },
      "source": [
        "RFC_model = RandomForestClassifier(n_estimators=10).fit(X_train, y_train)"
      ],
      "execution_count": 41,
      "outputs": []
    },
    {
      "cell_type": "code",
      "metadata": {
        "colab": {
          "base_uri": "https://localhost:8080/"
        },
        "id": "4_AEuArWvWnY",
        "outputId": "52150030-e0c1-41ea-8fa2-8e14883be0de"
      },
      "source": [
        "predicted_rf = RFC_model.predict(X_test)\n",
        "predicted_rf"
      ],
      "execution_count": 42,
      "outputs": [
        {
          "output_type": "execute_result",
          "data": {
            "text/plain": [
              "array([5, 5, 5, ..., 5, 5, 4])"
            ]
          },
          "metadata": {},
          "execution_count": 42
        }
      ]
    },
    {
      "cell_type": "code",
      "metadata": {
        "colab": {
          "base_uri": "https://localhost:8080/"
        },
        "id": "TVqTUPsjQ5oC",
        "outputId": "abaee360-518b-4d45-927c-7e96f7006df5"
      },
      "source": [
        "# Confidence score aplicado al y_test (Random Forest)\n",
        "rf_score = round(RFC_model.score(X_train,y_train) * 100, 2)\n",
        "\n",
        "print(rf_score)\n",
        "\n",
        "print(classification_report(y_test, predicted_rf))"
      ],
      "execution_count": 43,
      "outputs": [
        {
          "output_type": "stream",
          "name": "stdout",
          "text": [
            "99.98\n",
            "              precision    recall  f1-score   support\n",
            "\n",
            "           0       0.95      0.83      0.88        23\n",
            "           1       0.90      0.96      0.93       311\n",
            "           2       0.83      0.82      0.82       137\n",
            "           3       0.89      0.74      0.81        97\n",
            "           4       0.96      0.96      0.96       216\n",
            "           5       1.00      1.00      1.00      6354\n",
            "           6       0.99      0.96      0.98       141\n",
            "\n",
            "    accuracy                           0.99      7279\n",
            "   macro avg       0.93      0.90      0.91      7279\n",
            "weighted avg       0.99      0.99      0.99      7279\n",
            "\n"
          ]
        }
      ]
    },
    {
      "cell_type": "code",
      "metadata": {
        "colab": {
          "base_uri": "https://localhost:8080/"
        },
        "id": "DyfIODQZQq-L",
        "outputId": "c7733af5-5685-4f21-ef2b-84117a1741db"
      },
      "source": [
        "# Random Forest Classifier Model - f1_weighted\n",
        "\n",
        "RFC_model_2 = RandomForestClassifier(n_estimators=10)\n",
        "scores = cross_val_score(RFC_model, X_train, y_train, \n",
        "                        n_jobs=4, scoring='f1_weighted')\n",
        "\n",
        "print(scores)\n",
        "round(np.mean(scores)*100, 2)"
      ],
      "execution_count": 44,
      "outputs": [
        {
          "output_type": "stream",
          "name": "stdout",
          "text": [
            "[0.9839004  0.98584052 0.98247585 0.98343396 0.98722107]\n"
          ]
        },
        {
          "output_type": "execute_result",
          "data": {
            "text/plain": [
              "98.46"
            ]
          },
          "metadata": {},
          "execution_count": 44
        }
      ]
    },
    {
      "cell_type": "code",
      "metadata": {
        "id": "aoQYL0muQrQK"
      },
      "source": [
        "RFC_model_2 = RandomForestClassifier(n_estimators=10).fit(X_train, y_train)"
      ],
      "execution_count": 45,
      "outputs": []
    },
    {
      "cell_type": "code",
      "metadata": {
        "colab": {
          "base_uri": "https://localhost:8080/"
        },
        "id": "EluYtOwaQriq",
        "outputId": "8556960b-600e-4e77-c6c1-65ccdd40e37b"
      },
      "source": [
        "predicted_rf = RFC_model_2.predict(X_test)\n",
        "predicted_rf"
      ],
      "execution_count": null,
      "outputs": [
        {
          "output_type": "execute_result",
          "data": {
            "text/plain": [
              "array([1, 4, 5, ..., 5, 5, 2])"
            ]
          },
          "metadata": {},
          "execution_count": 72
        }
      ]
    },
    {
      "cell_type": "code",
      "metadata": {
        "colab": {
          "base_uri": "https://localhost:8080/"
        },
        "id": "sKNOnb-oQ2M6",
        "outputId": "65115a48-5c45-4ea7-ad2b-08b51d478d71"
      },
      "source": [
        "# Confidence score aplicado al y_test (Random Forest)\n",
        "rf_score = round(RFC_model_2.score(X_train,y_train) * 100, 2)\n",
        "\n",
        "print(rf_score)\n",
        "\n",
        "print(classification_report(y_test, predicted_rf))"
      ],
      "execution_count": 46,
      "outputs": [
        {
          "output_type": "stream",
          "name": "stdout",
          "text": [
            "99.98\n",
            "              precision    recall  f1-score   support\n",
            "\n",
            "           0       0.95      0.83      0.88        23\n",
            "           1       0.90      0.96      0.93       311\n",
            "           2       0.83      0.82      0.82       137\n",
            "           3       0.89      0.74      0.81        97\n",
            "           4       0.96      0.96      0.96       216\n",
            "           5       1.00      1.00      1.00      6354\n",
            "           6       0.99      0.96      0.98       141\n",
            "\n",
            "    accuracy                           0.99      7279\n",
            "   macro avg       0.93      0.90      0.91      7279\n",
            "weighted avg       0.99      0.99      0.99      7279\n",
            "\n"
          ]
        }
      ]
    },
    {
      "cell_type": "code",
      "metadata": {
        "colab": {
          "base_uri": "https://localhost:8080/"
        },
        "id": "QlFWiSd7_eAj",
        "outputId": "c70cc095-4435-4378-9cf1-6602baa75c11"
      },
      "source": [
        "# Support Vector Machine\n",
        "SVM_Model = SVC()\n",
        "\n",
        "scores = cross_val_score(SVM_Model, X_train, y_train, \n",
        "                        n_jobs=4, scoring='accuracy')\n",
        "\n",
        "print(scores)\n",
        "round(np.mean(scores)*100, 2)"
      ],
      "execution_count": 47,
      "outputs": [
        {
          "output_type": "stream",
          "name": "stdout",
          "text": [
            "[0.87566546 0.87549373 0.87549373 0.87564411 0.87564411]\n"
          ]
        },
        {
          "output_type": "execute_result",
          "data": {
            "text/plain": [
              "87.56"
            ]
          },
          "metadata": {},
          "execution_count": 47
        }
      ]
    },
    {
      "cell_type": "code",
      "metadata": {
        "colab": {
          "base_uri": "https://localhost:8080/"
        },
        "id": "vpwY3t_TOaTf",
        "outputId": "dede19aa-0c32-4cc7-a6de-e4eece157df0"
      },
      "source": [
        "SVM_Model.fit(X_train, y_train)  "
      ],
      "execution_count": 48,
      "outputs": [
        {
          "output_type": "execute_result",
          "data": {
            "text/plain": [
              "SVC()"
            ]
          },
          "metadata": {},
          "execution_count": 48
        }
      ]
    },
    {
      "cell_type": "code",
      "metadata": {
        "colab": {
          "base_uri": "https://localhost:8080/"
        },
        "id": "83lvYWCdODFH",
        "outputId": "75d22cc1-78ba-49c4-9eb9-896a6dadf5b5"
      },
      "source": [
        "predicted_svc = SVM_Model.predict(X_test)\n",
        "predicted_svc"
      ],
      "execution_count": 49,
      "outputs": [
        {
          "output_type": "execute_result",
          "data": {
            "text/plain": [
              "array([5, 5, 5, ..., 5, 5, 5])"
            ]
          },
          "metadata": {},
          "execution_count": 49
        }
      ]
    },
    {
      "cell_type": "code",
      "metadata": {
        "colab": {
          "base_uri": "https://localhost:8080/"
        },
        "id": "o-B-ib_q_eDX",
        "outputId": "2013c86d-fbe6-426a-d078-cc3bd190dc76"
      },
      "source": [
        "print(classification_report(y_test, predicted_svc))"
      ],
      "execution_count": 50,
      "outputs": [
        {
          "output_type": "stream",
          "name": "stdout",
          "text": [
            "              precision    recall  f1-score   support\n",
            "\n",
            "           0       0.00      0.00      0.00        23\n",
            "           1       0.00      0.00      0.00       311\n",
            "           2       0.00      0.00      0.00       137\n",
            "           3       0.00      0.00      0.00        97\n",
            "           4       0.00      0.00      0.00       216\n",
            "           5       0.87      1.00      0.93      6354\n",
            "           6       0.00      0.00      0.00       141\n",
            "\n",
            "    accuracy                           0.87      7279\n",
            "   macro avg       0.12      0.14      0.13      7279\n",
            "weighted avg       0.76      0.87      0.81      7279\n",
            "\n"
          ]
        }
      ]
    },
    {
      "cell_type": "code",
      "metadata": {
        "colab": {
          "base_uri": "https://localhost:8080/"
        },
        "id": "giSLd_D8_eGV",
        "outputId": "14883247-eb96-45bf-932c-2cc71e5238fa"
      },
      "source": [
        "SVM_Model.score(X_test, y_test)  "
      ],
      "execution_count": 51,
      "outputs": [
        {
          "output_type": "execute_result",
          "data": {
            "text/plain": [
              "0.8729221046847094"
            ]
          },
          "metadata": {},
          "execution_count": 51
        }
      ]
    },
    {
      "cell_type": "code",
      "metadata": {
        "colab": {
          "base_uri": "https://localhost:8080/"
        },
        "id": "PNSKb0qeRNx7",
        "outputId": "30ebc777-eb4e-44ec-ce0a-25dceaa1e5b0"
      },
      "source": [
        "# Support Vector Machine - f1_weighted\n",
        "SVM_Model_2 = SVC()\n",
        "\n",
        "scores = cross_val_score(SVM_Model_2, X_train, y_train, \n",
        "                        n_jobs=4, scoring='f1_weighted')\n",
        "\n",
        "print(scores)\n",
        "round(np.mean(scores)*100, 2)"
      ],
      "execution_count": 52,
      "outputs": [
        {
          "output_type": "stream",
          "name": "stdout",
          "text": [
            "[0.81761915 0.81737333 0.81737333 0.81758858 0.81758858]\n"
          ]
        },
        {
          "output_type": "execute_result",
          "data": {
            "text/plain": [
              "81.75"
            ]
          },
          "metadata": {},
          "execution_count": 52
        }
      ]
    },
    {
      "cell_type": "code",
      "metadata": {
        "colab": {
          "base_uri": "https://localhost:8080/"
        },
        "id": "Ts-SbcUEROKy",
        "outputId": "27e75009-c26c-40e2-8be6-ecac73ef0223"
      },
      "source": [
        "SVM_Model_2.fit(X_train, y_train)  "
      ],
      "execution_count": 53,
      "outputs": [
        {
          "output_type": "execute_result",
          "data": {
            "text/plain": [
              "SVC()"
            ]
          },
          "metadata": {},
          "execution_count": 53
        }
      ]
    },
    {
      "cell_type": "code",
      "metadata": {
        "colab": {
          "base_uri": "https://localhost:8080/"
        },
        "id": "68gDim1WROOK",
        "outputId": "c1ac3f99-841f-4dff-9ecc-31954cab1a10"
      },
      "source": [
        "predicted_svc = SVM_Model_2.predict(X_test)\n",
        "predicted_svc"
      ],
      "execution_count": 54,
      "outputs": [
        {
          "output_type": "execute_result",
          "data": {
            "text/plain": [
              "array([5, 5, 5, ..., 5, 5, 5])"
            ]
          },
          "metadata": {},
          "execution_count": 54
        }
      ]
    },
    {
      "cell_type": "code",
      "metadata": {
        "colab": {
          "base_uri": "https://localhost:8080/"
        },
        "id": "M0GQgWh_RORp",
        "outputId": "69b4fcd4-4afc-48bb-934e-903472cad600"
      },
      "source": [
        "# Confidence score aplicado al y_test (SVM)\n",
        "SVM2_score = round(SVM_Model_2.score(X_train,y_train) * 100, 2)\n",
        "\n",
        "print(SVM2_score)\n",
        "\n",
        "print(classification_report(y_test, predicted_rf))"
      ],
      "execution_count": 55,
      "outputs": [
        {
          "output_type": "stream",
          "name": "stdout",
          "text": [
            "87.56\n",
            "              precision    recall  f1-score   support\n",
            "\n",
            "           0       0.95      0.83      0.88        23\n",
            "           1       0.90      0.96      0.93       311\n",
            "           2       0.83      0.82      0.82       137\n",
            "           3       0.89      0.74      0.81        97\n",
            "           4       0.96      0.96      0.96       216\n",
            "           5       1.00      1.00      1.00      6354\n",
            "           6       0.99      0.96      0.98       141\n",
            "\n",
            "    accuracy                           0.99      7279\n",
            "   macro avg       0.93      0.90      0.91      7279\n",
            "weighted avg       0.99      0.99      0.99      7279\n",
            "\n"
          ]
        }
      ]
    },
    {
      "cell_type": "markdown",
      "metadata": {
        "id": "T0c5TggpLi0g"
      },
      "source": [
        "Cross Validation"
      ]
    },
    {
      "cell_type": "code",
      "metadata": {
        "colab": {
          "base_uri": "https://localhost:8080/",
          "height": 295
        },
        "id": "BrDcFhBARor8",
        "outputId": "f7695f11-f9bc-48f7-cecd-858705ccc7f7"
      },
      "source": [
        "# Cross validate model with Kfold stratified cross val (tarda 1 hora)\n",
        "K_fold = StratifiedKFold(n_splits=10)\n",
        "\n",
        "\n",
        "# Modeling step Test differents algorithms \n",
        "random_state = 17\n",
        "\n",
        "models = [] # append all models or predictive models \n",
        "cv_results = [] # cross validation result\n",
        "cv_means = [] # cross validation mean value\n",
        "cv_std = [] # cross validation standard deviation\n",
        "\n",
        "models.append(KNeighborsClassifier())\n",
        "models.append(AdaBoostClassifier(DecisionTreeClassifier(random_state=random_state),random_state=random_state,learning_rate=0.1))\n",
        "models.append(DecisionTreeClassifier(random_state=random_state))\n",
        "models.append(RandomForestClassifier(random_state=random_state))\n",
        "models.append(ExtraTreesClassifier(random_state=random_state))\n",
        "models.append(SVC(random_state=random_state))\n",
        "models.append(GradientBoostingClassifier(random_state=random_state))\n",
        "models.append(LogisticRegression(random_state = random_state))\n",
        "models.append(LinearDiscriminantAnalysis())\n",
        "models.append(MLPClassifier(random_state=random_state))\n",
        "\n",
        "\n",
        "for model in models :\n",
        "    cv_results.append(cross_val_score(model, X_train, y_train, \n",
        "                                      scoring = \"accuracy\", cv = K_fold, n_jobs=4))\n",
        "\n",
        "for cv_result in cv_results:\n",
        "    cv_means.append(cv_result.mean())\n",
        "    cv_std.append(cv_result.std())\n",
        "\n",
        "cv_frame = pd.DataFrame(\n",
        "    {\n",
        "        \"CrossValMeans\":cv_means,\n",
        "        \"CrossValErrors\": cv_std,\n",
        "        \"Algorithms\":[\n",
        "                     \"KNeighboors\",\n",
        "                     \"AdaBoost\", \n",
        "                     \"DecisionTree\",   \n",
        "                     \"RandomForest\",\n",
        "                     \"ExtraTrees\",\n",
        "                     \"SVC\",\n",
        "                     \"GradientBoosting\",                      \n",
        "                     \"LogisticRegression\",\n",
        "                     \"LinearDiscriminantAnalysis\",\n",
        "                     \"MultipleLayerPerceptron\"]\n",
        "    })\n",
        "\n",
        "cv_plot = sns.barplot(\"CrossValMeans\",\"Algorithms\", data = cv_frame,\n",
        "                palette=\"husl\", orient = \"h\", **{'xerr':cv_std})\n",
        "\n",
        "cv_plot.set_xlabel(\"Mean Accuracy\")\n",
        "cv_plot = cv_plot.set_title(\"CV Scores\")"
      ],
      "execution_count": null,
      "outputs": [
        {
          "data": {
            "image/png": "[encoded data removed]",
            "text/plain": [
              "<Figure size 432x288 with 1 Axes>"
            ]
          },
          "metadata": {},
          "output_type": "display_data"
        }
      ]
    },
    {
      "cell_type": "code",
      "metadata": {
        "id": "j_fM9x7ES--n",
        "colab": {
          "base_uri": "https://localhost:8080/",
          "height": 283
        },
        "outputId": "76b96a6c-1a3c-43ab-81dd-b56c9d0dd53c"
      },
      "source": [
        "#matriz de confusión para los resultados de random forest (f1-weighted)\n",
        "y_pred = RFC_model_2.predict(X_test)\n",
        "\n",
        "cm2 = confusion_matrix(y_test, y_pred.round())\n",
        "\n",
        "sns.heatmap(cm2, annot=True, fmt=\".0f\")"
      ],
      "execution_count": null,
      "outputs": [
        {
          "output_type": "execute_result",
          "data": {
            "text/plain": [
              "<matplotlib.axes._subplots.AxesSubplot at 0x7f3a8b740e90>"
            ]
          },
          "metadata": {},
          "execution_count": 70
        },
        {
          "output_type": "display_data",
          "data": {
            "image/png": "[encoded data removed]",
            "text/plain": [
              "<Figure size 432x288 with 2 Axes>"
            ]
          },
          "metadata": {
            "needs_background": "light"
          }
        }
      ]
    },
    {
      "cell_type": "code",
      "metadata": {
        "id": "ry4ySIL7S_Qi",
        "colab": {
          "base_uri": "https://localhost:8080/",
          "height": 283
        },
        "outputId": "adccdae4-9a6a-46a3-9f52-5d27ce2fe7bd"
      },
      "source": [
        "#matriz de confusión para los resultados de SVM (f1-weighted)\n",
        "y_pred = SVM_Model_2.predict(X_test)\n",
        "\n",
        "cm2 = confusion_matrix(y_test, y_pred.round())\n",
        "\n",
        "sns.heatmap(cm2, annot=True, fmt=\".0f\")"
      ],
      "execution_count": null,
      "outputs": [
        {
          "output_type": "execute_result",
          "data": {
            "text/plain": [
              "<matplotlib.axes._subplots.AxesSubplot at 0x7f3a8b04de50>"
            ]
          },
          "metadata": {},
          "execution_count": 71
        },
        {
          "output_type": "display_data",
          "data": {
            "image/png": "[encoded data removed]",
            "text/plain": [
              "<Figure size 432x288 with 2 Axes>"
            ]
          },
          "metadata": {
            "needs_background": "light"
          }
        }
      ]
    },
    {
      "cell_type": "markdown",
      "metadata": {
        "id": "27K07l5fM3_m"
      },
      "source": [
        "Tuneo de hiperparámetros"
      ]
    },
    {
      "cell_type": "code",
      "metadata": {
        "id": "DI8xIJLmM7xx",
        "colab": {
          "base_uri": "https://localhost:8080/"
        },
        "outputId": "5585a917-29e8-4b35-8270-0935e1a82fdc"
      },
      "source": [
        "K_fold = StratifiedKFold(n_splits=5)\n",
        "# RFC Parameters tunning \n",
        "RFC = RandomForestClassifier()\n",
        "\n",
        "## Search grid for optimal parameters\n",
        "rf_param_grid = {\"max_depth\": [None],\n",
        "              \"min_samples_split\": [2, 6, 20],\n",
        "              \"min_samples_leaf\": [1, 4, 16],\n",
        "              \"n_estimators\" :[100, 200, 300, 400],\n",
        "              \"criterion\": [\"gini\"]}\n",
        "\n",
        "\n",
        "gsRFC = GridSearchCV(RFC, param_grid = rf_param_grid, cv=K_fold,\n",
        "                     scoring=\"accuracy\", n_jobs= 4, verbose = 1)\n",
        "\n",
        "gsRFC.fit(X_train,y_train)\n",
        "RFC_best = gsRFC.best_estimator_\n",
        "\n",
        "# Best score\n",
        "gsRFC.best_score_"
      ],
      "execution_count": null,
      "outputs": [
        {
          "output_type": "stream",
          "name": "stdout",
          "text": [
            "Fitting 5 folds for each of 36 candidates, totalling 180 fits\n"
          ]
        },
        {
          "output_type": "execute_result",
          "data": {
            "text/plain": [
              "0.9769850891553471"
            ]
          },
          "metadata": {},
          "execution_count": 108
        }
      ]
    },
    {
      "cell_type": "code",
      "metadata": {
        "colab": {
          "base_uri": "https://localhost:8080/"
        },
        "id": "qu0JKM3HJyZE",
        "outputId": "2a4ac3e8-36a2-4ff6-87ef-5f1d5acfc622"
      },
      "source": [
        "gsRFC.best_params_"
      ],
      "execution_count": null,
      "outputs": [
        {
          "output_type": "execute_result",
          "data": {
            "text/plain": [
              "{'criterion': 'gini',\n",
              " 'max_depth': None,\n",
              " 'min_samples_leaf': 1,\n",
              " 'min_samples_split': 6,\n",
              " 'n_estimators': 200}"
            ]
          },
          "metadata": {},
          "execution_count": 114
        }
      ]
    },
    {
      "cell_type": "code",
      "source": [
        "clf_GSCV = RandomForestClassifier(max_depth=None, criterion='gini', min_samples_leaf = 1, min_samples_split = 6, n_estimators = 200, random_state=0)"
      ],
      "metadata": {
        "id": "2XlPrjqH-TTc"
      },
      "execution_count": null,
      "outputs": []
    },
    {
      "cell_type": "code",
      "source": [
        "clf_GSCV.fit(X_train, y_train)"
      ],
      "metadata": {
        "colab": {
          "base_uri": "https://localhost:8080/"
        },
        "id": "FBX_BnpDU-II",
        "outputId": "e934ef3d-0e13-49a3-9a27-6884f0e84cb3"
      },
      "execution_count": null,
      "outputs": [
        {
          "output_type": "execute_result",
          "data": {
            "text/plain": [
              "RandomForestClassifier(min_samples_split=6, n_estimators=200, random_state=0)"
            ]
          },
          "metadata": {},
          "execution_count": 14
        }
      ]
    },
    {
      "cell_type": "code",
      "source": [
        "predicted_rf = clf_GSCV.predict(X_test)\n",
        "predicted_rf"
      ],
      "metadata": {
        "colab": {
          "base_uri": "https://localhost:8080/"
        },
        "id": "xmI9sVMyVVcp",
        "outputId": "3400209b-6f4d-4ac4-b201-b89232e9338f"
      },
      "execution_count": null,
      "outputs": [
        {
          "output_type": "execute_result",
          "data": {
            "text/plain": [
              "array([4, 5, 5, ..., 5, 5, 4])"
            ]
          },
          "metadata": {},
          "execution_count": 15
        }
      ]
    },
    {
      "cell_type": "code",
      "source": [
        "# Confidence score aplicado al y_test (RF con tuneo de hiperparámetros)\n",
        "RF2_score = round(clf_GSCV.score(X_train,y_train))\n",
        "\n",
        "print(RF2_score)\n",
        "\n",
        "print(classification_report(y_test, predicted_rf))"
      ],
      "metadata": {
        "colab": {
          "base_uri": "https://localhost:8080/"
        },
        "id": "JpBSeoDWVbX3",
        "outputId": "f29c4c03-5b27-4f42-c9e7-623223b23e48"
      },
      "execution_count": null,
      "outputs": [
        {
          "output_type": "stream",
          "name": "stdout",
          "text": [
            "1\n",
            "              precision    recall  f1-score   support\n",
            "\n",
            "           0       0.83      0.50      0.62        10\n",
            "           1       0.89      0.99      0.94       125\n",
            "           2       0.88      0.79      0.83        56\n",
            "           3       0.86      0.74      0.79        34\n",
            "           4       0.96      0.94      0.95        90\n",
            "           5       1.00      1.00      1.00      2784\n",
            "           6       1.00      0.89      0.94        55\n",
            "\n",
            "    accuracy                           0.99      3154\n",
            "   macro avg       0.92      0.84      0.87      3154\n",
            "weighted avg       0.99      0.99      0.99      3154\n",
            "\n"
          ]
        }
      ]
    },
    {
      "cell_type": "code",
      "metadata": {
        "id": "21ep1E_aM70h",
        "colab": {
          "base_uri": "https://localhost:8080/"
        },
        "outputId": "849e037c-57be-4cdb-9c93-ea1abccba284"
      },
      "source": [
        "K_fold = StratifiedKFold(n_splits=3) #Tarda 43 minutos\n",
        "### SVC classifier - parameter tuning\n",
        "SVMC = SVC(probability=True)\n",
        "svc_param_grid = {\n",
        "                  'kernel': ['rbf'], \n",
        "                  'gamma': [0.0001, 0.001, 0.01, 0.1, 1],\n",
        "                  'C': [1, 10, 50, 100, 200, 300]\n",
        "                  }\n",
        "\n",
        "gsSVMC = GridSearchCV(SVMC, param_grid = svc_param_grid, cv = K_fold,\n",
        "                      scoring=\"accuracy\", n_jobs= -1, verbose = 1)\n",
        "\n",
        "gsSVMC.fit(X_train, y_train)\n",
        "\n",
        "SVMC_best = gsSVMC.best_estimator_\n",
        "\n",
        "# Best score\n",
        "gsSVMC.best_score_"
      ],
      "execution_count": null,
      "outputs": [
        {
          "output_type": "stream",
          "name": "stdout",
          "text": [
            "Fitting 3 folds for each of 30 candidates, totalling 90 fits\n"
          ]
        },
        {
          "output_type": "execute_result",
          "data": {
            "text/plain": [
              "0.8734112504448234"
            ]
          },
          "metadata": {},
          "execution_count": 112
        }
      ]
    },
    {
      "cell_type": "code",
      "metadata": {
        "id": "p10UIzumM73e",
        "colab": {
          "base_uri": "https://localhost:8080/"
        },
        "outputId": "4509945c-5a42-48b9-e326-7bed90b955bf"
      },
      "source": [
        "gsSVMC.best_params_"
      ],
      "execution_count": null,
      "outputs": [
        {
          "output_type": "execute_result",
          "data": {
            "text/plain": [
              "{'C': 1, 'gamma': 0.0001, 'kernel': 'rbf'}"
            ]
          },
          "metadata": {},
          "execution_count": 115
        }
      ]
    },
    {
      "cell_type": "code",
      "source": [
        "SVM_GSCV = SVC(kernel = 'rbf',gamma = 0.0001,C = 1 )"
      ],
      "metadata": {
        "id": "S6ZwdzT6_QRh"
      },
      "execution_count": null,
      "outputs": []
    },
    {
      "cell_type": "code",
      "source": [
        "SVM_GSCV.fit(X_train, y_train)"
      ],
      "metadata": {
        "colab": {
          "base_uri": "https://localhost:8080/"
        },
        "id": "0nVyMg3qWJQX",
        "outputId": "bcf8ffd4-ae2c-41b0-ab62-68ca59eca2df"
      },
      "execution_count": null,
      "outputs": [
        {
          "output_type": "execute_result",
          "data": {
            "text/plain": [
              "SVC(C=1, gamma=0.0001)"
            ]
          },
          "metadata": {},
          "execution_count": 18
        }
      ]
    },
    {
      "cell_type": "code",
      "source": [
        "predicted_svm = clf_GSCV.predict(X_test)\n",
        "predicted_svm"
      ],
      "metadata": {
        "colab": {
          "base_uri": "https://localhost:8080/"
        },
        "id": "gZzBzK8MWJoO",
        "outputId": "83936095-dfd6-4193-c603-5cd890718c09"
      },
      "execution_count": null,
      "outputs": [
        {
          "output_type": "execute_result",
          "data": {
            "text/plain": [
              "array([4, 5, 5, ..., 5, 5, 4])"
            ]
          },
          "metadata": {},
          "execution_count": 19
        }
      ]
    },
    {
      "cell_type": "code",
      "source": [
        "# Confidence score aplicado al y_test (SVM con tuneo de hiperparámetros)\n",
        "SVM2_score = round(SVM_GSCV.score(X_train,y_train))\n",
        "\n",
        "print(SVM2_score)\n",
        "\n",
        "print(classification_report(y_test, predicted_svm))"
      ],
      "metadata": {
        "colab": {
          "base_uri": "https://localhost:8080/"
        },
        "id": "W39SrRk7WJ9f",
        "outputId": "9434f462-635a-4b24-aae7-8449e8deae70"
      },
      "execution_count": null,
      "outputs": [
        {
          "output_type": "stream",
          "name": "stdout",
          "text": [
            "1\n",
            "              precision    recall  f1-score   support\n",
            "\n",
            "           0       0.83      0.50      0.62        10\n",
            "           1       0.89      0.99      0.94       125\n",
            "           2       0.88      0.79      0.83        56\n",
            "           3       0.86      0.74      0.79        34\n",
            "           4       0.96      0.94      0.95        90\n",
            "           5       1.00      1.00      1.00      2784\n",
            "           6       1.00      0.89      0.94        55\n",
            "\n",
            "    accuracy                           0.99      3154\n",
            "   macro avg       0.92      0.84      0.87      3154\n",
            "weighted avg       0.99      0.99      0.99      3154\n",
            "\n"
          ]
        }
      ]
    },
    {
      "cell_type": "markdown",
      "metadata": {
        "id": "y_pBGzJmEVIG"
      },
      "source": [
        "Multiclass classification"
      ]
    },
    {
      "cell_type": "code",
      "metadata": {
        "colab": {
          "base_uri": "https://localhost:8080/"
        },
        "id": "4_pYlm9rMgMa",
        "outputId": "f63a462b-01a2-4f0f-c970-a15e7322ffc4"
      },
      "source": [
        "#GradientBoost multiclass classification\n",
        "\n",
        "clf_mc = xgb.XGBClassifier(max_depth=5, objective='multi:softprob', n_estimators=100, \n",
        "                        num_classes=7)\n",
        "\n",
        "clf.fit(X_train, y_train)  "
      ],
      "execution_count": null,
      "outputs": [
        {
          "data": {
            "text/plain": [
              "XGBClassifier(max_depth=5, num_classes=7, objective='multi:softprob')"
            ]
          },
          "execution_count": 80,
          "metadata": {},
          "output_type": "execute_result"
        }
      ]
    },
    {
      "cell_type": "code",
      "metadata": {
        "colab": {
          "base_uri": "https://localhost:8080/"
        },
        "id": "enttt8AfMgwp",
        "outputId": "b38a8edd-21f3-4e9d-fe62-5c5bf086d94a"
      },
      "source": [
        "clf.score(X_test,y_test)"
      ],
      "execution_count": null,
      "outputs": [
        {
          "data": {
            "text/plain": [
              "1.0"
            ]
          },
          "execution_count": 81,
          "metadata": {},
          "output_type": "execute_result"
        }
      ]
    },
    {
      "cell_type": "code",
      "metadata": {
        "colab": {
          "base_uri": "https://localhost:8080/"
        },
        "id": "GW6DHOHXT2Su",
        "outputId": "3a6c055b-cc36-481c-f04d-b33c8dbfcc74"
      },
      "source": [
        "predicted_gb_mc = clf.predict(X_test)\n",
        "predicted_gb_mc"
      ],
      "execution_count": null,
      "outputs": [
        {
          "data": {
            "text/plain": [
              "array([6, 5, 4, ..., 5, 5, 5])"
            ]
          },
          "execution_count": 83,
          "metadata": {},
          "output_type": "execute_result"
        }
      ]
    },
    {
      "cell_type": "code",
      "metadata": {
        "colab": {
          "base_uri": "https://localhost:8080/"
        },
        "id": "mF7bVD5rT7BU",
        "outputId": "95c6c3ac-7e12-46d4-ae9c-dfaf51b8c5ea"
      },
      "source": [
        "print(classification_report(y_test, predicted_gb_mc))"
      ],
      "execution_count": null,
      "outputs": [
        {
          "name": "stdout",
          "output_type": "stream",
          "text": [
            "              precision    recall  f1-score   support\n",
            "\n",
            "           0       1.00      1.00      1.00        67\n",
            "           1       1.00      1.00      1.00       862\n",
            "           2       1.00      1.00      1.00       353\n",
            "           3       1.00      1.00      1.00       261\n",
            "           4       1.00      1.00      1.00       590\n",
            "           5       1.00      1.00      1.00     18075\n",
            "           6       1.00      1.00      1.00       434\n",
            "\n",
            "    accuracy                           1.00     20642\n",
            "   macro avg       1.00      1.00      1.00     20642\n",
            "weighted avg       1.00      1.00      1.00     20642\n",
            "\n"
          ]
        }
      ]
    },
    {
      "cell_type": "code",
      "metadata": {
        "colab": {
          "base_uri": "https://localhost:8080/"
        },
        "id": "zFgPnwPVMgzx",
        "outputId": "bab719ac-5e04-4514-eeaf-5a20f795af64"
      },
      "source": [
        "#Logistic Regression Multiclass\n",
        "logreg = LogisticRegression(solver = 'lbfgs',multi_class='auto')\n",
        "logreg.fit(X_train,y_train)\n"
      ],
      "execution_count": null,
      "outputs": [
        {
          "data": {
            "text/plain": [
              "LogisticRegression()"
            ]
          },
          "execution_count": 87,
          "metadata": {},
          "output_type": "execute_result"
        }
      ]
    },
    {
      "cell_type": "code",
      "metadata": {
        "id": "O9Nu8SlFUPVr"
      },
      "source": [
        "predicted_lr_mc = logreg.predict(X_test)"
      ],
      "execution_count": null,
      "outputs": []
    },
    {
      "cell_type": "code",
      "metadata": {
        "colab": {
          "base_uri": "https://localhost:8080/"
        },
        "id": "if37rKOYUP4k",
        "outputId": "0657e884-5025-45c2-b68e-6682ab2cb527"
      },
      "source": [
        "logreg.score(X_test,y_test)"
      ],
      "execution_count": null,
      "outputs": [
        {
          "data": {
            "text/plain": [
              "0.8756418951651972"
            ]
          },
          "execution_count": 90,
          "metadata": {},
          "output_type": "execute_result"
        }
      ]
    },
    {
      "cell_type": "code",
      "metadata": {
        "colab": {
          "base_uri": "https://localhost:8080/"
        },
        "id": "cc391u2gUVmy",
        "outputId": "b3fed522-2949-45d5-a0b6-ad53e891cf47"
      },
      "source": [
        "print(classification_report(y_test, predicted_lr_mc))"
      ],
      "execution_count": null,
      "outputs": [
        {
          "name": "stdout",
          "output_type": "stream",
          "text": [
            "              precision    recall  f1-score   support\n",
            "\n",
            "           0       0.00      0.00      0.00        67\n",
            "           1       0.00      0.00      0.00       862\n",
            "           2       0.00      0.00      0.00       353\n",
            "           3       0.00      0.00      0.00       261\n",
            "           4       0.00      0.00      0.00       590\n",
            "           5       0.88      1.00      0.93     18075\n",
            "           6       0.00      0.00      0.00       434\n",
            "\n",
            "    accuracy                           0.88     20642\n",
            "   macro avg       0.13      0.14      0.13     20642\n",
            "weighted avg       0.77      0.88      0.82     20642\n",
            "\n"
          ]
        }
      ]
    },
    {
      "cell_type": "code",
      "metadata": {
        "colab": {
          "base_uri": "https://localhost:8080/"
        },
        "id": "HY0Z7cglAaqg",
        "outputId": "7f3a94dd-a2eb-4c3d-99d4-98f47f0a269c"
      },
      "source": [
        "clf_2 = RandomForestClassifier(n_estimators=100, max_depth=8, random_state=13, max_features = 'auto').fit(X_train, y_train)\n",
        "clf_2"
      ],
      "execution_count": null,
      "outputs": [
        {
          "data": {
            "text/plain": [
              "RandomForestClassifier(max_depth=8, random_state=13)"
            ]
          },
          "execution_count": 116,
          "metadata": {},
          "output_type": "execute_result"
        }
      ]
    },
    {
      "cell_type": "code",
      "metadata": {
        "colab": {
          "base_uri": "https://localhost:8080/"
        },
        "id": "NnTLoUj8Aa94",
        "outputId": "7619c370-1c2c-4e22-dca4-967292f7606f"
      },
      "source": [
        "clf_2.score(X_train,y_train) "
      ],
      "execution_count": null,
      "outputs": [
        {
          "data": {
            "text/plain": [
              "0.9712479410909796"
            ]
          },
          "execution_count": 117,
          "metadata": {},
          "output_type": "execute_result"
        }
      ]
    },
    {
      "cell_type": "code",
      "metadata": {
        "colab": {
          "base_uri": "https://localhost:8080/"
        },
        "id": "JbsqWdY2AvjY",
        "outputId": "d894e567-f4f4-45b2-dec0-079d236b17d4"
      },
      "source": [
        "predicted_rf_mc = clf_2.predict(X_test)\n",
        "predicted_rf_mc"
      ],
      "execution_count": null,
      "outputs": [
        {
          "data": {
            "text/plain": [
              "array([5, 5, 4, ..., 5, 5, 5])"
            ]
          },
          "execution_count": 119,
          "metadata": {},
          "output_type": "execute_result"
        }
      ]
    },
    {
      "cell_type": "code",
      "metadata": {
        "colab": {
          "base_uri": "https://localhost:8080/"
        },
        "id": "ztI4y6E_AbVY",
        "outputId": "e0e11d0d-6796-4831-9da0-cf3fa2baad89"
      },
      "source": [
        "print(classification_report(y_test, predicted_rf_mc))"
      ],
      "execution_count": null,
      "outputs": [
        {
          "name": "stdout",
          "output_type": "stream",
          "text": [
            "              precision    recall  f1-score   support\n",
            "\n",
            "           0       1.00      0.58      0.74        67\n",
            "           1       0.81      0.98      0.89       862\n",
            "           2       0.88      0.69      0.77       353\n",
            "           3       0.92      0.59      0.72       261\n",
            "           4       0.98      0.95      0.96       590\n",
            "           5       0.98      1.00      0.99     18075\n",
            "           6       1.00      0.14      0.25       434\n",
            "\n",
            "    accuracy                           0.97     20642\n",
            "   macro avg       0.94      0.70      0.76     20642\n",
            "weighted avg       0.97      0.97      0.96     20642\n",
            "\n"
          ]
        }
      ]
    },
    {
      "cell_type": "code",
      "metadata": {
        "id": "QjDvq1qjMg2p"
      },
      "source": [
        "#One Versus Rest - Multiclass \n",
        "model = SVC()\n",
        "# define the ovr strategy\n",
        "ovr = OneVsRestClassifier(model)\n",
        "# fit model\n",
        "ovr.fit(X_train, y_train)\n",
        "# make predictions\n",
        "yhat = ovr.predict(X)"
      ],
      "execution_count": null,
      "outputs": []
    },
    {
      "cell_type": "code",
      "metadata": {
        "colab": {
          "base_uri": "https://localhost:8080/"
        },
        "id": "dfLk1-B0Mg5T",
        "outputId": "9fd1df4a-e5b2-4bf9-bad1-3396f51c298e"
      },
      "source": [
        "ovr.score(X_test,y_test)"
      ],
      "execution_count": null,
      "outputs": [
        {
          "output_type": "execute_result",
          "data": {
            "text/plain": [
              "0.8942307692307693"
            ]
          },
          "metadata": {},
          "execution_count": 28
        }
      ]
    },
    {
      "cell_type": "code",
      "metadata": {
        "colab": {
          "base_uri": "https://localhost:8080/"
        },
        "id": "jYXOJA7BU8Nx",
        "outputId": "e087b41f-f1d3-475b-dab0-2a32c7f6cdfa"
      },
      "source": [
        "predicted_lr_mc = ovr.predict(X_test)\n",
        "print(classification_report(y_test, predicted_lr_mc))"
      ],
      "execution_count": null,
      "outputs": [
        {
          "output_type": "stream",
          "name": "stdout",
          "text": [
            "              precision    recall  f1-score   support\n",
            "\n",
            "           1       0.00      0.00      0.00        26\n",
            "           2       0.00      0.00      0.00        14\n",
            "           3       0.00      0.00      0.00         4\n",
            "           4       0.00      0.00      0.00        17\n",
            "           5       0.89      1.00      0.94       651\n",
            "           6       0.00      0.00      0.00        16\n",
            "\n",
            "    accuracy                           0.89       728\n",
            "   macro avg       0.15      0.17      0.16       728\n",
            "weighted avg       0.80      0.89      0.84       728\n",
            "\n"
          ]
        }
      ]
    },
    {
      "cell_type": "code",
      "metadata": {
        "id": "zB-NVV8QU8wm"
      },
      "source": [
        "#One Versus One - Multiclass \n",
        "model_ovo = SVC()\n",
        "# define the ovr strategy\n",
        "ovo = OneVsOneClassifier(model_ovo)\n",
        "# fit model\n",
        "ovo.fit(X_train, y_train)\n",
        "# make predictions\n",
        "yhat = ovo.predict(X)"
      ],
      "execution_count": null,
      "outputs": []
    },
    {
      "cell_type": "code",
      "source": [
        "ovo.score(X_test,y_test)"
      ],
      "metadata": {
        "colab": {
          "base_uri": "https://localhost:8080/"
        },
        "id": "7y8uzaHPYaqO",
        "outputId": "9642e96d-3ccb-464c-b6f0-be75976935d4"
      },
      "execution_count": null,
      "outputs": [
        {
          "output_type": "execute_result",
          "data": {
            "text/plain": [
              "0.8942307692307693"
            ]
          },
          "metadata": {},
          "execution_count": 31
        }
      ]
    },
    {
      "cell_type": "code",
      "source": [
        "predicted_ovo = ovo.predict(X_test)\n",
        "print(classification_report(y_test, predicted_ovo))"
      ],
      "metadata": {
        "colab": {
          "base_uri": "https://localhost:8080/"
        },
        "id": "vJ-mDq6UYbDG",
        "outputId": "e267b0b0-e806-4f27-f490-a3cd8e6a01ce"
      },
      "execution_count": null,
      "outputs": [
        {
          "output_type": "stream",
          "name": "stdout",
          "text": [
            "              precision    recall  f1-score   support\n",
            "\n",
            "           1       0.00      0.00      0.00        26\n",
            "           2       0.00      0.00      0.00        14\n",
            "           3       0.00      0.00      0.00         4\n",
            "           4       0.00      0.00      0.00        17\n",
            "           5       0.89      1.00      0.94       651\n",
            "           6       0.00      0.00      0.00        16\n",
            "\n",
            "    accuracy                           0.89       728\n",
            "   macro avg       0.15      0.17      0.16       728\n",
            "weighted avg       0.80      0.89      0.84       728\n",
            "\n"
          ]
        }
      ]
    },
    {
      "cell_type": "markdown",
      "metadata": {
        "id": "jd1ZNEQLBeQg"
      },
      "source": [
        "Técnicas de rebalanceo"
      ]
    },
    {
      "cell_type": "code",
      "metadata": {
        "colab": {
          "base_uri": "https://localhost:8080/"
        },
        "id": "4Oq0f-OsBhMP",
        "outputId": "7681bfc3-0272-4b34-c440-14bc2d2e8a98"
      },
      "source": [
        "counter = Counter(y_train)\n",
        "print('Before',counter)"
      ],
      "execution_count": null,
      "outputs": [
        {
          "output_type": "stream",
          "name": "stdout",
          "text": [
            "Before Counter({5: 5085, 1: 261, 4: 174, 2: 113, 6: 102, 3: 76, 0: 11})\n"
          ]
        }
      ]
    },
    {
      "cell_type": "code",
      "metadata": {
        "id": "URtUnVs7BhOj"
      },
      "source": [
        "#SMOTE\n",
        "X_train_sm, X_test_sm, y_train_sm, y_test_sm = train_test_split(\n",
        "    X, y, test_size=0.20)"
      ],
      "execution_count": null,
      "outputs": []
    },
    {
      "cell_type": "code",
      "metadata": {
        "id": "t0Kt4ZeYBhRe"
      },
      "source": [
        "smt = SMOTE()"
      ],
      "execution_count": null,
      "outputs": []
    },
    {
      "cell_type": "code",
      "metadata": {
        "colab": {
          "base_uri": "https://localhost:8080/"
        },
        "id": "O8jkOsVQBypt",
        "outputId": "b6d7c4c7-9401-4613-e123-010348225bde"
      },
      "source": [
        "print('After',counter)"
      ],
      "execution_count": null,
      "outputs": [
        {
          "output_type": "stream",
          "name": "stdout",
          "text": [
            "After Counter({5: 5085, 1: 261, 4: 174, 2: 113, 6: 102, 3: 76, 0: 11})\n"
          ]
        }
      ]
    },
    {
      "cell_type": "code",
      "metadata": {
        "colab": {
          "base_uri": "https://localhost:8080/"
        },
        "id": "tihVqscDBzFX",
        "outputId": "9ef2379c-44a5-4cf6-f233-7e73285539be"
      },
      "source": [
        "clf_sm = RandomForestClassifier(n_estimators=100, max_depth=8, random_state=13, max_features = 'auto').fit(X_train_sm, y_train_sm)\n",
        "clf_sm"
      ],
      "execution_count": null,
      "outputs": [
        {
          "output_type": "execute_result",
          "data": {
            "text/plain": [
              "RandomForestClassifier(max_depth=8, random_state=13)"
            ]
          },
          "metadata": {},
          "execution_count": 21
        }
      ]
    },
    {
      "cell_type": "code",
      "metadata": {
        "colab": {
          "base_uri": "https://localhost:8080/"
        },
        "id": "5ALGKC1VBzIG",
        "outputId": "aa7b86ed-907e-4fb5-88a8-f223690ff99d"
      },
      "source": [
        "clf_sm.score(X_test_sm,y_test_sm)"
      ],
      "execution_count": null,
      "outputs": [
        {
          "output_type": "execute_result",
          "data": {
            "text/plain": [
              "0.9615384615384616"
            ]
          },
          "metadata": {},
          "execution_count": 22
        }
      ]
    },
    {
      "cell_type": "code",
      "metadata": {
        "colab": {
          "base_uri": "https://localhost:8080/"
        },
        "id": "RwiX0WF4BzKr",
        "outputId": "c0add7c4-9f78-403a-d15e-1ad68904253c"
      },
      "source": [
        "predicted_rf_sm = clf_sm.predict(X_test_sm)\n",
        "predicted_rf_sm"
      ],
      "execution_count": null,
      "outputs": [
        {
          "output_type": "execute_result",
          "data": {
            "text/plain": [
              "array([5, 5, 5, ..., 5, 5, 5])"
            ]
          },
          "metadata": {},
          "execution_count": 23
        }
      ]
    },
    {
      "cell_type": "code",
      "metadata": {
        "colab": {
          "base_uri": "https://localhost:8080/"
        },
        "id": "6hHfkrzsew2D",
        "outputId": "2c95848b-1f12-4508-f9ca-2b9f7275cc84"
      },
      "source": [
        "print(classification_report(y_test_sm, predicted_rf_sm))"
      ],
      "execution_count": null,
      "outputs": [
        {
          "output_type": "stream",
          "name": "stdout",
          "text": [
            "              precision    recall  f1-score   support\n",
            "\n",
            "           0       1.00      0.25      0.40         4\n",
            "           1       0.79      0.95      0.87        61\n",
            "           2       0.83      0.67      0.74        30\n",
            "           3       0.88      0.44      0.58        16\n",
            "           4       1.00      0.95      0.97        40\n",
            "           5       0.97      1.00      0.99      1276\n",
            "           6       0.00      0.00      0.00        29\n",
            "\n",
            "    accuracy                           0.96      1456\n",
            "   macro avg       0.78      0.61      0.65      1456\n",
            "weighted avg       0.94      0.96      0.95      1456\n",
            "\n"
          ]
        }
      ]
    },
    {
      "cell_type": "code",
      "metadata": {
        "id": "L8OXPQnZBzWJ"
      },
      "source": [
        "#NearMiss(undersamping technique)\n",
        "nm = NearMiss()\n",
        "x_nm, y_nm = nm.fit_resample(X, y)"
      ],
      "execution_count": null,
      "outputs": []
    },
    {
      "cell_type": "code",
      "metadata": {
        "id": "j0EWNa8zTQMs"
      },
      "source": [
        "#Creamos el train y test \n",
        "X_train_nm, X_test_nm, y_train_nm, y_test_nm = train_test_split(\n",
        "\n",
        "    x_nm, y_nm, test_size=0.2, random_state=0\n",
        "\n",
        ")"
      ],
      "execution_count": null,
      "outputs": []
    },
    {
      "cell_type": "code",
      "metadata": {
        "id": "FYd-lfraTQg9",
        "colab": {
          "base_uri": "https://localhost:8080/"
        },
        "outputId": "2108d861-06cd-48b3-dba1-de986613b02b"
      },
      "source": [
        "clf_rf_nm = RandomForestClassifier(n_estimators=100, max_depth=8, random_state=13, max_features = 'auto').fit(X_train_nm, y_train_nm)\n",
        "clf_rf_nm"
      ],
      "execution_count": null,
      "outputs": [
        {
          "output_type": "execute_result",
          "data": {
            "text/plain": [
              "RandomForestClassifier(max_depth=8, random_state=13)"
            ]
          },
          "metadata": {},
          "execution_count": 33
        }
      ]
    },
    {
      "cell_type": "code",
      "metadata": {
        "id": "wDtzsIS3TQ6l",
        "colab": {
          "base_uri": "https://localhost:8080/",
          "height": 287
        },
        "outputId": "eb4853a6-6cd2-4554-f110-9319fbd92520"
      },
      "source": [
        "#Usando NearMiss\n",
        "y_pred = clf_rf_nm.predict(X_test_nm)\n",
        "\n",
        "cm2 = confusion_matrix(y_test_nm, y_pred.round())\n",
        "\n",
        "sns.heatmap(cm2, annot=True, fmt=\".0f\")"
      ],
      "execution_count": null,
      "outputs": [
        {
          "output_type": "execute_result",
          "data": {
            "text/plain": [
              "<matplotlib.axes._subplots.AxesSubplot at 0x7f5ff75e77d0>"
            ]
          },
          "metadata": {},
          "execution_count": 34
        },
        {
          "output_type": "display_data",
          "data": {
            "image/png": "[encoded data removed]",
            "text/plain": [
              "<Figure size 432x288 with 2 Axes>"
            ]
          },
          "metadata": {
            "needs_background": "light"
          }
        }
      ]
    },
    {
      "cell_type": "code",
      "metadata": {
        "id": "U1hoaP-mTRaQ"
      },
      "source": [
        "predicted_log_nm = clf_rf_nm.predict(X_test_nm)"
      ],
      "execution_count": null,
      "outputs": []
    },
    {
      "cell_type": "code",
      "metadata": {
        "id": "Ifz5LBhQTSQm",
        "colab": {
          "base_uri": "https://localhost:8080/"
        },
        "outputId": "e1bc5394-4d2f-4996-8774-ed0d3c8c3120"
      },
      "source": [
        "# Confidence score aplicado al y_test (nearMiss)\n",
        "logreg_score_nm = round(clf_rf_nm.score(X_train_nm,y_train_nm) * 100, 2)\n",
        "\n",
        "print(logreg_score_nm)\n",
        "\n",
        "print(classification_report(y_test_nm, predicted_log_nm))"
      ],
      "execution_count": null,
      "outputs": [
        {
          "output_type": "stream",
          "name": "stdout",
          "text": [
            "100.0\n",
            "              precision    recall  f1-score   support\n",
            "\n",
            "           0       1.00      1.00      1.00         5\n",
            "           1       1.00      0.67      0.80         3\n",
            "           2       0.67      0.50      0.57         4\n",
            "           3       0.25      0.20      0.22         5\n",
            "           4       0.25      0.50      0.33         2\n",
            "           5       1.00      1.00      1.00         6\n",
            "           6       0.50      1.00      0.67         1\n",
            "\n",
            "    accuracy                           0.69        26\n",
            "   macro avg       0.67      0.70      0.66        26\n",
            "weighted avg       0.73      0.69      0.70        26\n",
            "\n"
          ]
        }
      ]
    },
    {
      "cell_type": "code",
      "metadata": {
        "colab": {
          "base_uri": "https://localhost:8080/"
        },
        "id": "nJGWR2-EglJr",
        "outputId": "5650e186-f7b0-47c1-d2a8-4140b5e25404"
      },
      "source": [
        "smt = SMOTETomek(random_state=42)\n",
        "\n",
        "X_res, y_res = smt.fit_resample(X, y)\n",
        "\n",
        "print('Resampled dataset shape %s' % Counter(y_res))\n"
      ],
      "execution_count": null,
      "outputs": [
        {
          "output_type": "stream",
          "name": "stdout",
          "text": [
            "Resampled dataset shape Counter({0: 20677, 3: 19209, 2: 19206, 1: 19159, 6: 18906, 4: 18777, 5: 16923})\n"
          ]
        }
      ]
    },
    {
      "cell_type": "code",
      "metadata": {
        "id": "Zbm9s8qjgl1q"
      },
      "source": [
        "#Creamos el train y test \n",
        "X_train_ST, X_test_ST, y_train_ST, y_test_ST = train_test_split(\n",
        "\n",
        "    X_res, y_res, test_size=0.2, random_state=0\n",
        "\n",
        ")"
      ],
      "execution_count": null,
      "outputs": []
    },
    {
      "cell_type": "code",
      "metadata": {
        "colab": {
          "base_uri": "https://localhost:8080/"
        },
        "id": "q0cEfjERgleI",
        "outputId": "3543f6c1-9adb-472f-a557-6b821d4ac4d0"
      },
      "source": [
        "clf_st = RandomForestClassifier(n_estimators=100, max_depth=8, random_state=13, max_features = 'auto').fit(X_train_ST, y_train_ST)\n",
        "clf_st"
      ],
      "execution_count": null,
      "outputs": [
        {
          "output_type": "execute_result",
          "data": {
            "text/plain": [
              "RandomForestClassifier(max_depth=8, random_state=13)"
            ]
          },
          "metadata": {},
          "execution_count": 21
        }
      ]
    },
    {
      "cell_type": "code",
      "metadata": {
        "id": "NIhRYx10hwxW"
      },
      "source": [
        "predicted_log_ST = clf_st.predict(X_test_ST)"
      ],
      "execution_count": null,
      "outputs": []
    },
    {
      "cell_type": "code",
      "metadata": {
        "colab": {
          "base_uri": "https://localhost:8080/"
        },
        "id": "hEUdHgcLh1ES",
        "outputId": "66f2a6aa-2b95-43d6-d829-4bdbb5e4b294"
      },
      "source": [
        "# Confidence score aplicado al y_test (SMOTETomek)\n",
        "logreg_score_st = round(clf_st.score(X_train_ST,y_train_ST) * 100, 2)\n",
        "\n",
        "print(logreg_score_st)\n",
        "\n",
        "print(classification_report(y_test_ST, predicted_log_ST))"
      ],
      "execution_count": null,
      "outputs": [
        {
          "output_type": "stream",
          "name": "stdout",
          "text": [
            "92.01\n",
            "              precision    recall  f1-score   support\n",
            "\n",
            "           0       1.00      1.00      1.00      4087\n",
            "           1       0.97      0.80      0.88      3776\n",
            "           2       0.90      0.85      0.87      3818\n",
            "           3       0.78      0.97      0.86      3861\n",
            "           4       0.91      0.91      0.91      3774\n",
            "           5       0.89      0.89      0.89      3429\n",
            "           6       1.00      0.99      1.00      3827\n",
            "\n",
            "    accuracy                           0.92     26572\n",
            "   macro avg       0.92      0.92      0.92     26572\n",
            "weighted avg       0.92      0.92      0.92     26572\n",
            "\n"
          ]
        }
      ]
    },
    {
      "cell_type": "code",
      "metadata": {
        "colab": {
          "base_uri": "https://localhost:8080/"
        },
        "id": "zNpLz9cYivbG",
        "outputId": "788659ed-e128-4365-c0ee-f80c1335adfb"
      },
      "source": [
        "#Tomek Links\n",
        "tl = TomekLinks()\n",
        "\n",
        "X_tl, y_tl = tl.fit_resample(X, y)\n",
        "\n",
        "print('Resampled dataset shape %s' % Counter(y_res))"
      ],
      "execution_count": null,
      "outputs": [
        {
          "output_type": "stream",
          "name": "stdout",
          "text": [
            "Resampled dataset shape Counter({0: 6184, 2: 5692, 3: 5622, 1: 5613, 4: 5439, 6: 5415, 5: 4865})\n"
          ]
        }
      ]
    },
    {
      "cell_type": "code",
      "metadata": {
        "id": "ZgUu4kC1i1mA"
      },
      "source": [
        "#Creamos el train y test \n",
        "X_train_tl, X_test_tl, y_train_tl, y_test_tl = train_test_split(\n",
        "\n",
        "    X_tl, y_tl, test_size=0.2, random_state=0\n",
        "\n",
        ")"
      ],
      "execution_count": null,
      "outputs": []
    },
    {
      "cell_type": "code",
      "metadata": {
        "colab": {
          "base_uri": "https://localhost:8080/"
        },
        "id": "ICi0HLT8i2Me",
        "outputId": "6fe8710a-8d58-48dc-90e4-608524c8fcca"
      },
      "source": [
        "#aplicamos el clasificador de bosques aleatorios al modelo TomekLinks creado\n",
        "clf_tl = RandomForestClassifier(n_estimators=100, max_depth=8, random_state=13, max_features = 'auto').fit(X_train_tl, y_train_tl)\n",
        "clf_tl"
      ],
      "execution_count": null,
      "outputs": [
        {
          "output_type": "execute_result",
          "data": {
            "text/plain": [
              "RandomForestClassifier(max_depth=8, random_state=13)"
            ]
          },
          "metadata": {},
          "execution_count": 49
        }
      ]
    },
    {
      "cell_type": "code",
      "metadata": {
        "id": "w536LGknjKkf"
      },
      "source": [
        "predicted_log_tl = clf_st.predict(X_test_tl)"
      ],
      "execution_count": null,
      "outputs": []
    },
    {
      "cell_type": "code",
      "metadata": {
        "colab": {
          "base_uri": "https://localhost:8080/"
        },
        "id": "O3pH7JIAjK4O",
        "outputId": "fa3f9e87-6245-47ef-a74f-e1b3938dcb64"
      },
      "source": [
        "# Confidence score aplicado al y_test (SMOTE Links)\n",
        "logreg_score_tl = round(clf_tl.score(X_train_tl,y_train_tl) * 100, 2)\n",
        "\n",
        "print(logreg_score_tl)\n",
        "\n",
        "print(classification_report(y_test_tl, predicted_log_tl))"
      ],
      "execution_count": null,
      "outputs": [
        {
          "output_type": "stream",
          "name": "stdout",
          "text": [
            "99.42\n",
            "              precision    recall  f1-score   support\n",
            "\n",
            "           0       1.00      1.00      1.00         3\n",
            "           1       0.83      0.95      0.89        42\n",
            "           2       0.75      0.86      0.80        14\n",
            "           3       0.23      1.00      0.37         5\n",
            "           4       0.16      0.86      0.28        22\n",
            "           5       1.00      0.90      0.95      1196\n",
            "           6       1.00      1.00      1.00        11\n",
            "\n",
            "    accuracy                           0.90      1293\n",
            "   macro avg       0.71      0.94      0.75      1293\n",
            "weighted avg       0.97      0.90      0.93      1293\n",
            "\n"
          ]
        }
      ]
    },
    {
      "cell_type": "code",
      "metadata": {
        "id": "e6FmlbCDTyu4",
        "colab": {
          "base_uri": "https://localhost:8080/"
        },
        "outputId": "8ece834f-1b21-4264-c46a-0d2b5d8e81a4"
      },
      "source": [
        "#random undersampling\n",
        "rus = RandomUnderSampler(random_state=42)\n",
        "\n",
        "X_res, y_res = rus.fit_resample(X, y)\n",
        "print('Resampled dataset shape %s' % Counter(y_res))"
      ],
      "execution_count": null,
      "outputs": [
        {
          "output_type": "stream",
          "name": "stdout",
          "text": [
            "Resampled dataset shape Counter({0: 18, 1: 18, 2: 18, 3: 18, 4: 18, 5: 18, 6: 18})\n"
          ]
        }
      ]
    },
    {
      "cell_type": "code",
      "metadata": {
        "id": "sqrD9f0ekIIX"
      },
      "source": [
        "#Creamos el train y test \n",
        "X_train_rus, X_test_rus, y_train_rus, y_test_rus = train_test_split(\n",
        "\n",
        "    X_res, y_res, test_size=0.2, random_state=0\n",
        "\n",
        ")"
      ],
      "execution_count": null,
      "outputs": []
    },
    {
      "cell_type": "code",
      "metadata": {
        "colab": {
          "base_uri": "https://localhost:8080/"
        },
        "id": "l6apO3iJkIK-",
        "outputId": "779aa224-7de8-4ae2-eb8f-2ffb8ee81a14"
      },
      "source": [
        "clf_rus = RandomForestClassifier(n_estimators=100, max_depth=8, random_state=13, max_features = 'auto').fit(X_train_rus, y_train_rus)\n",
        "clf_rus"
      ],
      "execution_count": null,
      "outputs": [
        {
          "output_type": "execute_result",
          "data": {
            "text/plain": [
              "RandomForestClassifier(max_depth=8, random_state=13)"
            ]
          },
          "metadata": {},
          "execution_count": 58
        }
      ]
    },
    {
      "cell_type": "code",
      "metadata": {
        "colab": {
          "base_uri": "https://localhost:8080/"
        },
        "id": "AkRgos-fkINf",
        "outputId": "efbefb37-f7aa-486a-a4de-ecbd8c7cf0e1"
      },
      "source": [
        "predicted_rf_rus = clf_rus.predict(X_test_rus)\n",
        "predicted_rf_rus"
      ],
      "execution_count": null,
      "outputs": [
        {
          "output_type": "execute_result",
          "data": {
            "text/plain": [
              "array([0, 1, 2, 2, 3, 6, 4, 5, 0, 6, 0, 2, 5, 1, 4, 0, 0, 5, 1, 2, 3, 5,\n",
              "       5, 3, 0, 1])"
            ]
          },
          "metadata": {},
          "execution_count": 60
        }
      ]
    },
    {
      "cell_type": "code",
      "metadata": {
        "colab": {
          "base_uri": "https://localhost:8080/"
        },
        "id": "12zeIVrEkIP2",
        "outputId": "0fb05589-7d8d-49fd-e35c-834bd4e0bdaa"
      },
      "source": [
        "# Confidence score aplicado al y_test (Random UnderSamping)\n",
        "logreg_score_rus = round(clf_rus.score(X_train_rus,y_train_rus) * 100, 2)\n",
        "\n",
        "print(logreg_score_rus)\n",
        "\n",
        "print(classification_report(y_test_rus, predicted_rf_rus))"
      ],
      "execution_count": null,
      "outputs": [
        {
          "output_type": "stream",
          "name": "stdout",
          "text": [
            "100.0\n",
            "              precision    recall  f1-score   support\n",
            "\n",
            "           0       0.83      1.00      0.91         5\n",
            "           1       0.50      0.67      0.57         3\n",
            "           2       0.50      0.50      0.50         4\n",
            "           3       1.00      0.60      0.75         5\n",
            "           4       0.50      0.50      0.50         2\n",
            "           5       0.80      0.67      0.73         6\n",
            "           6       0.50      1.00      0.67         1\n",
            "\n",
            "    accuracy                           0.69        26\n",
            "   macro avg       0.66      0.70      0.66        26\n",
            "weighted avg       0.73      0.69      0.69        26\n",
            "\n"
          ]
        }
      ]
    },
    {
      "cell_type": "code",
      "metadata": {
        "colab": {
          "base_uri": "https://localhost:8080/"
        },
        "id": "KsHiSXqUkIUu",
        "outputId": "f18514f7-c1b8-4436-bfea-3848966882f6"
      },
      "source": [
        "#Random Oversampling\n",
        "ros = RandomOverSampler(random_state=0)\n",
        "\n",
        "X_ros, y_ros = ros.fit_resample(X, y)\n",
        "print('Resampled dataset shape %s' % Counter(y_ros))"
      ],
      "execution_count": null,
      "outputs": [
        {
          "output_type": "stream",
          "name": "stdout",
          "text": [
            "Resampled dataset shape Counter({5: 6382, 1: 6382, 4: 6382, 2: 6382, 3: 6382, 6: 6382, 0: 6382})\n"
          ]
        }
      ]
    },
    {
      "cell_type": "code",
      "metadata": {
        "id": "DuV05uGykIW-"
      },
      "source": [
        "#Separamos los datos en train y test \n",
        "X_train_ros, X_test_ros, y_train_ros, y_test_ros = train_test_split(\n",
        "\n",
        "    X_ros, y_ros, test_size=0.2, random_state=0\n",
        "\n",
        ")"
      ],
      "execution_count": null,
      "outputs": []
    },
    {
      "cell_type": "code",
      "metadata": {
        "colab": {
          "base_uri": "https://localhost:8080/"
        },
        "id": "RfRCNYIvnlbs",
        "outputId": "340e7133-0b24-415c-9ea6-cd08d1df000a"
      },
      "source": [
        "clf_ros = RandomForestClassifier(n_estimators=100, max_depth=8, random_state=13, max_features = 'auto').fit(X_train_rus, y_train_rus)\n",
        "clf_ros"
      ],
      "execution_count": null,
      "outputs": [
        {
          "output_type": "execute_result",
          "data": {
            "text/plain": [
              "RandomForestClassifier(max_depth=8, random_state=13)"
            ]
          },
          "metadata": {},
          "execution_count": 67
        }
      ]
    },
    {
      "cell_type": "code",
      "metadata": {
        "colab": {
          "base_uri": "https://localhost:8080/"
        },
        "id": "48BTM78YnleS",
        "outputId": "afb3011b-153c-4045-82ba-71e842baab13"
      },
      "source": [
        "predicted_rf_ros = clf_ros.predict(X_test_ros)\n",
        "predicted_rf_ros"
      ],
      "execution_count": null,
      "outputs": [
        {
          "output_type": "execute_result",
          "data": {
            "text/plain": [
              "array([5, 0, 1, ..., 1, 3, 6])"
            ]
          },
          "metadata": {},
          "execution_count": 70
        }
      ]
    },
    {
      "cell_type": "code",
      "metadata": {
        "colab": {
          "base_uri": "https://localhost:8080/"
        },
        "id": "6GT2zNOqnlgi",
        "outputId": "9d1bd197-4de2-44ed-aad8-27325778d32c"
      },
      "source": [
        "# Confidence score aplicado al y_test (Random OverSampling)\n",
        "logreg_score_ros = round(clf_rus.score(X_train_ros,y_train_ros) * 100, 2)\n",
        "\n",
        "print(logreg_score_ros)\n",
        "\n",
        "print(classification_report(y_test_ros, predicted_rf_ros))"
      ],
      "execution_count": null,
      "outputs": [
        {
          "output_type": "stream",
          "name": "stdout",
          "text": [
            "66.15\n",
            "              precision    recall  f1-score   support\n",
            "\n",
            "           0       0.82      1.00      0.90      1303\n",
            "           1       0.55      0.64      0.59      1262\n",
            "           2       0.61      0.58      0.60      1267\n",
            "           3       0.78      0.64      0.70      1285\n",
            "           4       0.59      0.43      0.50      1251\n",
            "           5       0.57      0.40      0.47      1286\n",
            "           6       0.64      0.88      0.74      1281\n",
            "\n",
            "    accuracy                           0.66      8935\n",
            "   macro avg       0.65      0.66      0.64      8935\n",
            "weighted avg       0.65      0.66      0.64      8935\n",
            "\n"
          ]
        }
      ]
    },
    {
      "cell_type": "markdown",
      "metadata": {
        "id": "dXJkl2qICH0V"
      },
      "source": [
        "Análisis de variables target excluyendo la variable Residencial"
      ]
    },
    {
      "cell_type": "code",
      "metadata": {
        "id": "K5KlZSlJ2Jrm"
      },
      "source": [
        "# Separate majority and minority classes\n",
        "df_majority = df[df.CLASE==5]\n",
        "df_minority_0 = df[df.CLASE==0]\n",
        "df_minority_1 = df[df.CLASE==1]\n",
        "df_minority_2 = df[df.CLASE==2]\n",
        "df_minority_3 = df[df.CLASE==3]\n",
        "df_minority_4 = df[df.CLASE==4]\n",
        "df_minority_6 = df[df.CLASE==6]"
      ],
      "execution_count": null,
      "outputs": []
    },
    {
      "cell_type": "code",
      "metadata": {
        "colab": {
          "base_uri": "https://localhost:8080/"
        },
        "id": "jOrUJ4Gz3p17",
        "outputId": "81377a37-185a-4895-eb63-de3ab5c20dec"
      },
      "source": [
        "df_majority.shape"
      ],
      "execution_count": null,
      "outputs": [
        {
          "output_type": "execute_result",
          "data": {
            "text/plain": [
              "(21205, 56)"
            ]
          },
          "metadata": {},
          "execution_count": 27
        }
      ]
    },
    {
      "cell_type": "code",
      "metadata": {
        "colab": {
          "base_uri": "https://localhost:8080/"
        },
        "id": "RgiI_kNj3s-9",
        "outputId": "bdfbb5c5-6d79-40d9-b25c-046f2fe2d9b2"
      },
      "source": [
        "df_minority_6.shape"
      ],
      "execution_count": null,
      "outputs": [
        {
          "output_type": "execute_result",
          "data": {
            "text/plain": [
              "(484, 56)"
            ]
          },
          "metadata": {},
          "execution_count": 28
        }
      ]
    },
    {
      "cell_type": "code",
      "metadata": {
        "id": "qreOE6YL32E0"
      },
      "source": [
        "#Creamos un DataFrame con las clases minoritarias\n",
        "df_min = pd.concat([df_minority_0, df_minority_1,df_minority_2,df_minority_3,df_minority_4,df_minority_6], axis=0)"
      ],
      "execution_count": null,
      "outputs": []
    },
    {
      "cell_type": "code",
      "metadata": {
        "colab": {
          "base_uri": "https://localhost:8080/"
        },
        "id": "SabpdYUX4aHz",
        "outputId": "782aeddd-9927-4407-de0a-da3f134f7b9b"
      },
      "source": [
        "df_min.CLASE.value_counts()"
      ],
      "execution_count": null,
      "outputs": [
        {
          "output_type": "execute_result",
          "data": {
            "text/plain": [
              "1    1023\n",
              "4     713\n",
              "6     484\n",
              "2     445\n",
              "3     323\n",
              "0      65\n",
              "Name: CLASE, dtype: int64"
            ]
          },
          "metadata": {},
          "execution_count": 30
        }
      ]
    },
    {
      "cell_type": "code",
      "metadata": {
        "id": "VOd40vkf49Pr"
      },
      "source": [
        "X_min =df_min.drop(['ID','GEOM_R1','GEOM_R2','GEOM_R3','GEOM_R4'],axis=1)\n",
        "y_min =df_min['CLASE']"
      ],
      "execution_count": null,
      "outputs": []
    },
    {
      "cell_type": "code",
      "metadata": {
        "id": "gklNCjw45EyK"
      },
      "source": [
        "X_train_min, X_test_min, y_train_min, y_test_min = train_test_split(\n",
        "    X_min, y_min, test_size=0.20)"
      ],
      "execution_count": null,
      "outputs": []
    },
    {
      "cell_type": "code",
      "metadata": {
        "colab": {
          "base_uri": "https://localhost:8080/"
        },
        "id": "0jyOP-Il2KBT",
        "outputId": "0412d411-a9bd-46e1-eac0-fa8201fb1e78"
      },
      "source": [
        "# Support Vector Machine\n",
        "SVM_Model_min = SVC()\n",
        "\n",
        "SVM_Model_min.fit(X_train_min, y_train_min)  "
      ],
      "execution_count": null,
      "outputs": [
        {
          "data": {
            "text/plain": [
              "SVC()"
            ]
          },
          "execution_count": 109,
          "metadata": {},
          "output_type": "execute_result"
        }
      ]
    },
    {
      "cell_type": "code",
      "metadata": {
        "colab": {
          "base_uri": "https://localhost:8080/"
        },
        "id": "y_HfIjnn2KET",
        "outputId": "f471b192-09da-47fb-e477-55fd1c093268"
      },
      "source": [
        "predicted_svc_min = SVM_Model_min.predict(X_test)\n",
        "predicted_svc_min"
      ],
      "execution_count": null,
      "outputs": [
        {
          "data": {
            "text/plain": [
              "array([1, 1, 1, ..., 1, 1, 1])"
            ]
          },
          "execution_count": 110,
          "metadata": {},
          "output_type": "execute_result"
        }
      ]
    },
    {
      "cell_type": "code",
      "metadata": {
        "colab": {
          "base_uri": "https://localhost:8080/"
        },
        "id": "6dF8Pwvg2KGh",
        "outputId": "deb9e8a2-180a-4e48-e435-9d48d476c34f"
      },
      "source": [
        "print(classification_report(y_test, predicted_svc_min))"
      ],
      "execution_count": null,
      "outputs": [
        {
          "name": "stdout",
          "output_type": "stream",
          "text": [
            "              precision    recall  f1-score   support\n",
            "\n",
            "           0       0.00      0.00      0.00        67\n",
            "           1       0.04      1.00      0.08       862\n",
            "           2       0.00      0.00      0.00       353\n",
            "           3       0.00      0.00      0.00       261\n",
            "           4       0.00      0.00      0.00       590\n",
            "           5       0.00      0.00      0.00     18075\n",
            "           6       0.00      0.00      0.00       434\n",
            "\n",
            "    accuracy                           0.04     20642\n",
            "   macro avg       0.01      0.14      0.01     20642\n",
            "weighted avg       0.00      0.04      0.00     20642\n",
            "\n"
          ]
        }
      ]
    },
    {
      "cell_type": "code",
      "metadata": {
        "colab": {
          "base_uri": "https://localhost:8080/"
        },
        "id": "_fSVrsm92KJG",
        "outputId": "868dd33c-aa9e-4683-e484-cfea4efcf6f3"
      },
      "source": [
        "#Decision Tree\n",
        "clf_min = tree.DecisionTreeClassifier()\n",
        "clf_min.fit(X_train_min, y_train_min)"
      ],
      "execution_count": null,
      "outputs": [
        {
          "data": {
            "text/plain": [
              "DecisionTreeClassifier()"
            ]
          },
          "execution_count": 112,
          "metadata": {},
          "output_type": "execute_result"
        }
      ]
    },
    {
      "cell_type": "code",
      "metadata": {
        "id": "-fbP8HMu2KLM"
      },
      "source": [
        "predicted_log_min = clf_min.predict(X_test_min)"
      ],
      "execution_count": null,
      "outputs": []
    },
    {
      "cell_type": "code",
      "metadata": {
        "colab": {
          "base_uri": "https://localhost:8080/"
        },
        "id": "N6nxdMp22KN2",
        "outputId": "9a2b09ac-1bb8-4488-d5c8-29d6c16329b9"
      },
      "source": [
        "# Confidence score aplicado al y_test\n",
        "logreg_score_min = (clf_min.score(X_train_min,y_train_min) * 100, 2)\n",
        "\n",
        "print(logreg_score_min)\n",
        "\n",
        "print(classification_report(y_test_min, predicted_log_min))"
      ],
      "execution_count": null,
      "outputs": [
        {
          "name": "stdout",
          "output_type": "stream",
          "text": [
            "(100.0, 2)\n",
            "              precision    recall  f1-score   support\n",
            "\n",
            "           0       1.00      1.00      1.00        77\n",
            "           1       1.00      1.00      1.00       896\n",
            "           2       1.00      1.00      1.00       408\n",
            "           3       1.00      1.00      1.00       246\n",
            "           4       1.00      1.00      1.00       581\n",
            "           6       1.00      1.00      1.00       400\n",
            "\n",
            "    accuracy                           1.00      2608\n",
            "   macro avg       1.00      1.00      1.00      2608\n",
            "weighted avg       1.00      1.00      1.00      2608\n",
            "\n"
          ]
        }
      ]
    },
    {
      "cell_type": "code",
      "metadata": {
        "id": "85DjQVEg6cNw",
        "colab": {
          "base_uri": "https://localhost:8080/"
        },
        "outputId": "478e1f92-7a72-4e08-c27c-049377d5f6f2"
      },
      "source": [
        "#Random Forest del dataset de clases minoritarias\n",
        "clf_min = RandomForestClassifier(n_estimators=100, max_depth=8, random_state=13, max_features = 'auto').fit(X_train_min, y_train_min)\n",
        "clf_min"
      ],
      "execution_count": null,
      "outputs": [
        {
          "output_type": "execute_result",
          "data": {
            "text/plain": [
              "RandomForestClassifier(max_depth=8, random_state=13)"
            ]
          },
          "metadata": {},
          "execution_count": 81
        }
      ]
    },
    {
      "cell_type": "code",
      "metadata": {
        "colab": {
          "base_uri": "https://localhost:8080/"
        },
        "id": "SzwkaAr1opl-",
        "outputId": "de053851-a7c2-463d-d72c-cd03cc0fd951"
      },
      "source": [
        "predicted_rf_min = clf_min.predict(X_test_min)\n",
        "predicted_rf_min"
      ],
      "execution_count": null,
      "outputs": [
        {
          "output_type": "execute_result",
          "data": {
            "text/plain": [
              "array([1, 2, 4, 2, 2, 4, 2, 1, 1, 1, 4, 4, 1, 1, 4, 4, 4, 4, 4, 1, 6, 1,\n",
              "       3, 2, 1, 6, 4, 1, 1, 1, 3, 4, 1, 1, 1, 4, 1, 1, 6, 4, 1, 3, 2, 1,\n",
              "       1, 2, 4, 1, 1, 6, 4, 1, 1, 6, 6, 1, 4, 4, 4, 2, 4, 2, 4, 1, 3, 0,\n",
              "       1, 1, 1, 6, 2, 4, 6, 4, 6, 2, 4, 1, 4, 6, 4, 4, 2, 2, 6, 3, 1, 3,\n",
              "       1, 1, 1, 4, 1, 4, 1, 1, 6, 4, 3, 6, 6, 1, 6, 1, 2, 1, 6, 1, 4, 2,\n",
              "       1, 2, 1, 1, 4, 4, 3, 4, 4, 4, 2, 0, 1, 1, 3, 1, 6, 1, 1, 1, 1, 1,\n",
              "       1, 1, 4, 3, 4, 3, 1, 4, 4, 1, 6, 1, 1, 1, 2, 4, 1, 1, 2, 1, 6, 3,\n",
              "       6, 1, 1, 4, 1, 6, 6, 1, 1, 4, 4, 1, 4, 4, 1, 2, 3, 6, 1, 2, 3, 4,\n",
              "       2, 4, 3, 6])"
            ]
          },
          "metadata": {},
          "execution_count": 82
        }
      ]
    },
    {
      "cell_type": "code",
      "metadata": {
        "colab": {
          "base_uri": "https://localhost:8080/"
        },
        "id": "Z4iw5ih3oqJS",
        "outputId": "9f0c3ef4-bd41-4b22-916f-0bfcf16fb343"
      },
      "source": [
        "# Confidence score aplicado al y_test (Random OverSampling)\n",
        "logreg_score_min = round(clf_min.score(X_train_min,y_train_min) * 100, 2)\n",
        "\n",
        "print(logreg_score_min)\n",
        "\n",
        "print(classification_report(y_test_min, predicted_rf_min))"
      ],
      "execution_count": null,
      "outputs": [
        {
          "output_type": "stream",
          "name": "stdout",
          "text": [
            "99.86\n",
            "              precision    recall  f1-score   support\n",
            "\n",
            "           0       0.50      0.20      0.29         5\n",
            "           1       0.90      0.94      0.92        67\n",
            "           2       0.82      0.75      0.78        24\n",
            "           3       0.80      0.86      0.83        14\n",
            "           4       0.81      0.93      0.86        41\n",
            "           6       0.96      0.79      0.87        29\n",
            "\n",
            "    accuracy                           0.86       180\n",
            "   macro avg       0.80      0.74      0.76       180\n",
            "weighted avg       0.86      0.86      0.86       180\n",
            "\n"
          ]
        }
      ]
    },
    {
      "cell_type": "code",
      "metadata": {
        "id": "S9572J7d6cn4"
      },
      "source": [
        "#Logistic Regrfession (df clases minoritaras)"
      ],
      "execution_count": null,
      "outputs": []
    },
    {
      "cell_type": "code",
      "metadata": {
        "id": "XfNlkvBAqnhU"
      },
      "source": [
        "lr_min = LogisticRegression(random_state=0).fit(X_train_min, y_train_min)"
      ],
      "execution_count": null,
      "outputs": []
    },
    {
      "cell_type": "code",
      "metadata": {
        "colab": {
          "base_uri": "https://localhost:8080/"
        },
        "id": "8ZhuxqcYqosd",
        "outputId": "9486a432-f9ff-454f-d7f4-53f930e6493c"
      },
      "source": [
        "predicted_lr_min = lr_min.predict(X_test_min)\n",
        "predicted_lr_min"
      ],
      "execution_count": null,
      "outputs": [
        {
          "output_type": "execute_result",
          "data": {
            "text/plain": [
              "array([1, 1, 1, 1, 1, 1, 1, 1, 1, 1, 1, 1, 1, 1, 1, 1, 1, 1, 1, 1, 1, 1,\n",
              "       1, 1, 1, 1, 1, 1, 1, 1, 1, 1, 1, 1, 1, 1, 1, 1, 1, 1, 1, 1, 1, 1,\n",
              "       1, 1, 1, 1, 1, 1, 1, 1, 1, 1, 1, 1, 1, 1, 1, 1, 1, 1, 1, 6, 1, 1,\n",
              "       1, 1, 1, 1, 1, 1, 1, 1, 1, 1, 1, 1, 1, 1, 1, 1, 1, 1, 1, 1, 1, 1,\n",
              "       1, 1, 1, 1, 1, 1, 1, 1, 1, 1, 1, 1, 1, 1, 1, 1, 1, 1, 1, 1, 1, 1,\n",
              "       1, 1, 1, 1, 1, 1, 1, 1, 1, 1, 1, 1, 1, 1, 1, 1, 1, 1, 1, 1, 1, 1,\n",
              "       1, 1, 1, 1, 1, 1, 1, 1, 1, 1, 1, 1, 1, 1, 1, 1, 1, 1, 1, 1, 1, 1,\n",
              "       1, 1, 1, 1, 1, 1, 1, 1, 1, 1, 1, 1, 1, 1, 1, 1, 1, 1, 1, 1, 1, 1,\n",
              "       1, 1, 1, 1])"
            ]
          },
          "metadata": {},
          "execution_count": 86
        }
      ]
    },
    {
      "cell_type": "code",
      "metadata": {
        "colab": {
          "base_uri": "https://localhost:8080/"
        },
        "id": "gdRHx-39qoMv",
        "outputId": "b3e37cbd-3962-4ba4-ef4f-ade4ae5c33ce"
      },
      "source": [
        "# Confidence score aplicado al y_test (Logistic Regression min ddf)\n",
        "lr_score_min = round(lr_min.score(X_train_min,y_train_min) * 100, 2)\n",
        "\n",
        "print(lr_score_min)\n",
        "\n",
        "print(classification_report(y_test_min, predicted_lr_min))"
      ],
      "execution_count": null,
      "outputs": [
        {
          "output_type": "stream",
          "name": "stdout",
          "text": [
            "34.36\n",
            "              precision    recall  f1-score   support\n",
            "\n",
            "           0       0.00      0.00      0.00         5\n",
            "           1       0.37      1.00      0.54        67\n",
            "           2       0.00      0.00      0.00        24\n",
            "           3       0.00      0.00      0.00        14\n",
            "           4       0.00      0.00      0.00        41\n",
            "           6       0.00      0.00      0.00        29\n",
            "\n",
            "    accuracy                           0.37       180\n",
            "   macro avg       0.06      0.17      0.09       180\n",
            "weighted avg       0.14      0.37      0.20       180\n",
            "\n"
          ]
        }
      ]
    },
    {
      "cell_type": "code",
      "metadata": {
        "id": "DeOj4ENS6dBS"
      },
      "source": [
        "#Gradient Boosting(df clases minoritaras)"
      ],
      "execution_count": null,
      "outputs": []
    },
    {
      "cell_type": "code",
      "metadata": {
        "id": "vvS6zgvAqphW"
      },
      "source": [
        "gb_min = GradientBoostingClassifier(n_estimators=100, learning_rate=1.0,\n",
        "       max_depth=1, random_state=0).fit(X_train_min, y_train_min)"
      ],
      "execution_count": null,
      "outputs": []
    },
    {
      "cell_type": "code",
      "metadata": {
        "colab": {
          "base_uri": "https://localhost:8080/"
        },
        "id": "34MovsBMqp-0",
        "outputId": "e69a129b-7867-457a-f365-64aca52d9374"
      },
      "source": [
        "predicted_gb_min = gb_min.predict(X_test_min)\n",
        "predicted_gb_min"
      ],
      "execution_count": null,
      "outputs": [
        {
          "output_type": "execute_result",
          "data": {
            "text/plain": [
              "array([1, 2, 6, 1, 2, 4, 1, 4, 1, 1, 4, 4, 1, 1, 4, 6, 4, 4, 2, 1, 6, 1,\n",
              "       3, 2, 1, 6, 4, 1, 1, 1, 3, 4, 1, 1, 1, 6, 1, 1, 6, 4, 1, 3, 3, 1,\n",
              "       1, 2, 4, 1, 1, 6, 3, 1, 1, 6, 6, 0, 2, 4, 4, 2, 4, 2, 4, 0, 2, 0,\n",
              "       1, 1, 1, 6, 1, 4, 6, 6, 6, 2, 4, 1, 4, 6, 4, 4, 2, 2, 6, 3, 1, 3,\n",
              "       0, 1, 1, 4, 1, 4, 2, 1, 6, 4, 3, 6, 4, 1, 6, 0, 2, 1, 6, 1, 4, 2,\n",
              "       1, 2, 1, 1, 4, 6, 4, 4, 4, 4, 2, 1, 1, 1, 3, 1, 6, 2, 1, 1, 1, 1,\n",
              "       1, 1, 4, 3, 4, 3, 1, 4, 4, 1, 6, 1, 1, 1, 2, 4, 1, 1, 2, 1, 6, 3,\n",
              "       6, 1, 1, 4, 1, 6, 6, 1, 1, 6, 4, 1, 4, 4, 1, 2, 3, 6, 1, 2, 3, 4,\n",
              "       2, 4, 2, 6])"
            ]
          },
          "metadata": {},
          "execution_count": 92
        }
      ]
    },
    {
      "cell_type": "code",
      "metadata": {
        "colab": {
          "base_uri": "https://localhost:8080/"
        },
        "id": "CgHADqQCqqF0",
        "outputId": "41e53c84-3656-4e11-979d-17bc0bf726cc"
      },
      "source": [
        "# Confidence score aplicado al y_test (Logistic Regression min ddf)\n",
        "gb_score_min = round(gb_min.score(X_train_min,y_train_min) * 100, 2)\n",
        "\n",
        "print(gb_score_min)\n",
        "\n",
        "print(classification_report(y_test_min, predicted_gb_min))"
      ],
      "execution_count": null,
      "outputs": [
        {
          "output_type": "stream",
          "name": "stdout",
          "text": [
            "100.0\n",
            "              precision    recall  f1-score   support\n",
            "\n",
            "           0       1.00      1.00      1.00         5\n",
            "           1       1.00      1.00      1.00        67\n",
            "           2       1.00      1.00      1.00        24\n",
            "           3       1.00      1.00      1.00        14\n",
            "           4       1.00      1.00      1.00        41\n",
            "           6       1.00      1.00      1.00        29\n",
            "\n",
            "    accuracy                           1.00       180\n",
            "   macro avg       1.00      1.00      1.00       180\n",
            "weighted avg       1.00      1.00      1.00       180\n",
            "\n"
          ]
        }
      ]
    },
    {
      "cell_type": "code",
      "metadata": {
        "id": "qwvgTQXM6dPY"
      },
      "source": [
        "#K neighbors (df clases minoritaras)"
      ],
      "execution_count": null,
      "outputs": []
    },
    {
      "cell_type": "code",
      "metadata": {
        "colab": {
          "base_uri": "https://localhost:8080/"
        },
        "id": "bgQHIuLpqqtr",
        "outputId": "064bb428-542d-4772-9fda-5166b17f817f"
      },
      "source": [
        "kn_min = KNeighborsClassifier(3).fit(X_train_min, y_train_min)\n",
        "kn_min"
      ],
      "execution_count": null,
      "outputs": [
        {
          "output_type": "execute_result",
          "data": {
            "text/plain": [
              "KNeighborsClassifier(n_neighbors=3)"
            ]
          },
          "metadata": {},
          "execution_count": 88
        }
      ]
    },
    {
      "cell_type": "code",
      "metadata": {
        "colab": {
          "base_uri": "https://localhost:8080/"
        },
        "id": "wviI7NEYqqwb",
        "outputId": "7ae7de0b-de82-4a5a-9eba-c7fc489f106a"
      },
      "source": [
        "predicted_kn_min = kn_min.predict(X_test_min)\n",
        "predicted_kn_min"
      ],
      "execution_count": null,
      "outputs": [
        {
          "output_type": "execute_result",
          "data": {
            "text/plain": [
              "array([1, 4, 6, 1, 4, 1, 2, 2, 1, 1, 1, 1, 1, 1, 1, 4, 1, 1, 2, 1, 2, 1,\n",
              "       1, 2, 1, 1, 2, 1, 1, 2, 1, 1, 1, 1, 1, 4, 1, 1, 3, 3, 2, 2, 1, 1,\n",
              "       6, 2, 4, 1, 1, 6, 1, 1, 1, 4, 1, 1, 2, 1, 2, 2, 1, 0, 1, 1, 2, 1,\n",
              "       2, 1, 4, 2, 1, 3, 1, 2, 3, 4, 4, 1, 4, 3, 1, 4, 2, 4, 3, 4, 2, 1,\n",
              "       1, 4, 3, 1, 1, 4, 1, 1, 2, 4, 1, 1, 2, 1, 1, 2, 2, 1, 1, 6, 1, 6,\n",
              "       4, 2, 4, 6, 0, 2, 1, 1, 1, 3, 1, 1, 2, 6, 2, 1, 1, 6, 3, 1, 1, 1,\n",
              "       1, 1, 1, 1, 1, 6, 1, 1, 2, 1, 1, 1, 1, 6, 6, 6, 3, 1, 1, 1, 1, 6,\n",
              "       2, 4, 1, 1, 1, 6, 2, 1, 1, 4, 4, 1, 1, 1, 1, 1, 6, 1, 6, 4, 4, 4,\n",
              "       2, 2, 1, 6])"
            ]
          },
          "metadata": {},
          "execution_count": 89
        }
      ]
    },
    {
      "cell_type": "code",
      "metadata": {
        "id": "P8i0yU1H6d-Z",
        "colab": {
          "base_uri": "https://localhost:8080/"
        },
        "outputId": "945a1258-199f-4f3a-a02e-7ecba509a761"
      },
      "source": [
        "# Confidence score aplicado al y_test (Logistic Regression min ddf)\n",
        "kn_score_min = round(kn_min.score(X_train_min,y_train_min) * 100, 2)\n",
        "\n",
        "print(kn_score_min)\n",
        "\n",
        "print(classification_report(y_test_min, predicted_kn_min))"
      ],
      "execution_count": null,
      "outputs": [
        {
          "output_type": "stream",
          "name": "stdout",
          "text": [
            "63.27\n",
            "              precision    recall  f1-score   support\n",
            "\n",
            "           0       0.00      0.00      0.00         5\n",
            "           1       0.49      0.70      0.58        67\n",
            "           2       0.31      0.42      0.36        24\n",
            "           3       0.00      0.00      0.00        14\n",
            "           4       0.33      0.20      0.25        41\n",
            "           6       0.24      0.14      0.17        29\n",
            "\n",
            "    accuracy                           0.38       180\n",
            "   macro avg       0.23      0.24      0.23       180\n",
            "weighted avg       0.34      0.38      0.35       180\n",
            "\n"
          ]
        }
      ]
    },
    {
      "cell_type": "code",
      "metadata": {
        "colab": {
          "base_uri": "https://localhost:8080/"
        },
        "id": "_wF3CwqQFmFH",
        "outputId": "9a3f301e-3968-46e7-a7aa-e9cf7c2c368e"
      },
      "source": [
        "K_fold = StratifiedKFold(n_splits=3) #Tarda 3 minutos\n",
        "### SVC classifier - parameter tuning\n",
        "SVMC = SVC(probability=True)\n",
        "svc_param_grid = {\n",
        "                  'kernel': ['rbf'], \n",
        "                  'gamma': [0.0001, 0.001, 0.01, 0.1, 1],\n",
        "                  'C': [1, 10, 50, 100, 200, 300]\n",
        "                  }\n",
        "\n",
        "gsSVMC = GridSearchCV(SVMC, param_grid = svc_param_grid, cv = K_fold,\n",
        "                      scoring=\"accuracy\", n_jobs= -1, verbose = 1)\n",
        "\n",
        "gsSVMC.fit(X_train_min, y_train_min)\n",
        "\n",
        "SVMC_best = gsSVMC.best_estimator_\n",
        "\n",
        "# Best score\n",
        "gsSVMC.best_score_"
      ],
      "execution_count": null,
      "outputs": [
        {
          "output_type": "stream",
          "name": "stdout",
          "text": [
            "Fitting 3 folds for each of 30 candidates, totalling 90 fits\n"
          ]
        },
        {
          "output_type": "execute_result",
          "data": {
            "text/plain": [
              "0.3443898443898444"
            ]
          },
          "metadata": {},
          "execution_count": 33
        }
      ]
    },
    {
      "cell_type": "code",
      "metadata": {
        "colab": {
          "base_uri": "https://localhost:8080/"
        },
        "id": "4A3-zpufUffe",
        "outputId": "1fd5b05d-3e23-4d29-84f7-1af5044477cb"
      },
      "source": [
        "gsSVMC.best_params_"
      ],
      "execution_count": null,
      "outputs": [
        {
          "output_type": "execute_result",
          "data": {
            "text/plain": [
              "{'C': 1, 'gamma': 0.0001, 'kernel': 'rbf'}"
            ]
          },
          "metadata": {},
          "execution_count": 34
        }
      ]
    },
    {
      "cell_type": "code",
      "metadata": {
        "id": "hvlzcMxyVRFy"
      },
      "source": [
        ""
      ],
      "execution_count": null,
      "outputs": []
    },
    {
      "cell_type": "code",
      "metadata": {
        "id": "YSWyH40GWBMv"
      },
      "source": [
        ""
      ],
      "execution_count": null,
      "outputs": []
    },
    {
      "cell_type": "markdown",
      "metadata": {
        "id": "ewKg1D9aWDNG"
      },
      "source": [
        "Estimación del modelo"
      ]
    },
    {
      "cell_type": "code",
      "metadata": {
        "id": "Ap2bMUEKVRdS"
      },
      "source": [
        "ruta_2=(\"/content/Estimar_UH2020.txt\")\n",
        "df_2 = pd.read_csv(ruta_2,sep = \"|\")"
      ],
      "execution_count": null,
      "outputs": []
    },
    {
      "cell_type": "code",
      "metadata": {
        "colab": {
          "base_uri": "https://localhost:8080/"
        },
        "id": "ztvpsXFDVR3L",
        "outputId": "23828e8e-f68c-4df3-a5c7-249f09271f31"
      },
      "source": [
        "df_2.size"
      ],
      "execution_count": null,
      "outputs": [
        {
          "output_type": "execute_result",
          "data": {
            "text/plain": [
              "308990"
            ]
          },
          "metadata": {},
          "execution_count": 75
        }
      ]
    },
    {
      "cell_type": "code",
      "metadata": {
        "colab": {
          "base_uri": "https://localhost:8080/"
        },
        "id": "WsG--fWxVSPZ",
        "outputId": "8494ecb7-9f20-4a85-bf82-c4fdf7f54e2a"
      },
      "source": [
        "df_2.shape"
      ],
      "execution_count": null,
      "outputs": [
        {
          "output_type": "execute_result",
          "data": {
            "text/plain": [
              "(5618, 55)"
            ]
          },
          "metadata": {},
          "execution_count": 76
        }
      ]
    },
    {
      "cell_type": "code",
      "metadata": {
        "colab": {
          "base_uri": "https://localhost:8080/",
          "height": 226
        },
        "id": "xz0Nez8LWfQI",
        "outputId": "0428f74e-c9f6-401d-d343-5b805e702378"
      },
      "source": [
        "df_2.head()"
      ],
      "execution_count": null,
      "outputs": [
        {
          "output_type": "execute_result",
          "data": {
            "text/html": [
              "<div>\n",
              "<style scoped>\n",
              "    .dataframe tbody tr th:only-of-type {\n",
              "        vertical-align: middle;\n",
              "    }\n",
              "\n",
              "    .dataframe tbody tr th {\n",
              "        vertical-align: top;\n",
              "    }\n",
              "\n",
              "    .dataframe thead th {\n",
              "        text-align: right;\n",
              "    }\n",
              "</style>\n",
              "<table border=\"1\" class=\"dataframe\">\n",
              "  <thead>\n",
              "    <tr style=\"text-align: right;\">\n",
              "      <th></th>\n",
              "      <th>ID</th>\n",
              "      <th>X</th>\n",
              "      <th>Y</th>\n",
              "      <th>Q_R_4_0_0</th>\n",
              "      <th>Q_R_4_0_1</th>\n",
              "      <th>Q_R_4_0_2</th>\n",
              "      <th>Q_R_4_0_3</th>\n",
              "      <th>Q_R_4_0_4</th>\n",
              "      <th>Q_R_4_0_5</th>\n",
              "      <th>Q_R_4_0_6</th>\n",
              "      <th>Q_R_4_0_7</th>\n",
              "      <th>Q_R_4_0_8</th>\n",
              "      <th>Q_R_4_0_9</th>\n",
              "      <th>Q_R_4_1_0</th>\n",
              "      <th>Q_G_3_0_0</th>\n",
              "      <th>Q_G_3_0_1</th>\n",
              "      <th>Q_G_3_0_2</th>\n",
              "      <th>Q_G_3_0_3</th>\n",
              "      <th>Q_G_3_0_4</th>\n",
              "      <th>Q_G_3_0_5</th>\n",
              "      <th>Q_G_3_0_6</th>\n",
              "      <th>Q_G_3_0_7</th>\n",
              "      <th>Q_G_3_0_8</th>\n",
              "      <th>Q_G_3_0_9</th>\n",
              "      <th>Q_G_3_1_0</th>\n",
              "      <th>Q_B_2_0_0</th>\n",
              "      <th>Q_B_2_0_1</th>\n",
              "      <th>Q_B_2_0_2</th>\n",
              "      <th>Q_B_2_0_3</th>\n",
              "      <th>Q_B_2_0_4</th>\n",
              "      <th>Q_B_2_0_5</th>\n",
              "      <th>Q_B_2_0_6</th>\n",
              "      <th>Q_B_2_0_7</th>\n",
              "      <th>Q_B_2_0_8</th>\n",
              "      <th>Q_B_2_0_9</th>\n",
              "      <th>Q_B_2_1_0</th>\n",
              "      <th>Q_NIR_8_0_0</th>\n",
              "      <th>Q_NIR_8_0_1</th>\n",
              "      <th>Q_NIR_8_0_2</th>\n",
              "      <th>Q_NIR_8_0_3</th>\n",
              "      <th>Q_NIR_8_0_4</th>\n",
              "      <th>Q_NIR_8_0_5</th>\n",
              "      <th>Q_NIR_8_0_6</th>\n",
              "      <th>Q_NIR_8_0_7</th>\n",
              "      <th>Q_NIR_8_0_8</th>\n",
              "      <th>Q_NIR_8_0_9</th>\n",
              "      <th>Q_NIR_8_1_0</th>\n",
              "      <th>AREA</th>\n",
              "      <th>GEOM_R1</th>\n",
              "      <th>GEOM_R2</th>\n",
              "      <th>GEOM_R3</th>\n",
              "      <th>GEOM_R4</th>\n",
              "      <th>CONTRUCTIONYEAR</th>\n",
              "      <th>MAXBUILDINGFLOOR</th>\n",
              "      <th>CADASTRALQUALITYID</th>\n",
              "    </tr>\n",
              "  </thead>\n",
              "  <tbody>\n",
              "    <tr>\n",
              "      <th>0</th>\n",
              "      <td>44198C2A811A4DF4</td>\n",
              "      <td>2200905624</td>\n",
              "      <td>165480229</td>\n",
              "      <td>0.000001</td>\n",
              "      <td>445.999637</td>\n",
              "      <td>634.001172</td>\n",
              "      <td>780.000568</td>\n",
              "      <td>902.004053</td>\n",
              "      <td>1025.997009</td>\n",
              "      <td>1157.997681</td>\n",
              "      <td>1304.999585</td>\n",
              "      <td>1501.002661</td>\n",
              "      <td>1830.998926</td>\n",
              "      <td>7098.504905</td>\n",
              "      <td>0.000002</td>\n",
              "      <td>383.999710</td>\n",
              "      <td>528.000317</td>\n",
              "      <td>633.998871</td>\n",
              "      <td>724.998218</td>\n",
              "      <td>811.000366</td>\n",
              "      <td>901.999060</td>\n",
              "      <td>1010.996002</td>\n",
              "      <td>1162.000439</td>\n",
              "      <td>1438.003833</td>\n",
              "      <td>6630.661924</td>\n",
              "      <td>147.000473</td>\n",
              "      <td>461.000000</td>\n",
              "      <td>493.000122</td>\n",
              "      <td>522.999878</td>\n",
              "      <td>550.000061</td>\n",
              "      <td>575.999939</td>\n",
              "      <td>604.999817</td>\n",
              "      <td>647.000122</td>\n",
              "      <td>707.000122</td>\n",
              "      <td>825.000891</td>\n",
              "      <td>2962.301546</td>\n",
              "      <td>1.063087e-05</td>\n",
              "      <td>631.998126</td>\n",
              "      <td>889.002136</td>\n",
              "      <td>1084.999243</td>\n",
              "      <td>1259.988721</td>\n",
              "      <td>1432.501221</td>\n",
              "      <td>1619.998560</td>\n",
              "      <td>1835.995764</td>\n",
              "      <td>2120.993359</td>\n",
              "      <td>2545.997754</td>\n",
              "      <td>6803.875107</td>\n",
              "      <td>283.593030</td>\n",
              "      <td>0.046741</td>\n",
              "      <td>0.014588</td>\n",
              "      <td>0.011298</td>\n",
              "      <td>0.774503</td>\n",
              "      <td>1994</td>\n",
              "      <td>5.0</td>\n",
              "      <td>4</td>\n",
              "    </tr>\n",
              "    <tr>\n",
              "      <th>1</th>\n",
              "      <td>216F638609E0E39E</td>\n",
              "      <td>2207436564</td>\n",
              "      <td>165625751</td>\n",
              "      <td>0.000000</td>\n",
              "      <td>385.000995</td>\n",
              "      <td>580.005762</td>\n",
              "      <td>737.004449</td>\n",
              "      <td>873.996460</td>\n",
              "      <td>1005.998779</td>\n",
              "      <td>1141.001758</td>\n",
              "      <td>1296.997083</td>\n",
              "      <td>1505.996753</td>\n",
              "      <td>1822.994031</td>\n",
              "      <td>5364.803157</td>\n",
              "      <td>0.000000</td>\n",
              "      <td>346.996735</td>\n",
              "      <td>495.997705</td>\n",
              "      <td>602.000580</td>\n",
              "      <td>701.000647</td>\n",
              "      <td>795.999268</td>\n",
              "      <td>889.995288</td>\n",
              "      <td>995.997449</td>\n",
              "      <td>1138.001709</td>\n",
              "      <td>1387.002820</td>\n",
              "      <td>5534.496367</td>\n",
              "      <td>99.000961</td>\n",
              "      <td>483.999969</td>\n",
              "      <td>521.000342</td>\n",
              "      <td>547.000183</td>\n",
              "      <td>570.000061</td>\n",
              "      <td>591.999878</td>\n",
              "      <td>615.798437</td>\n",
              "      <td>643.000183</td>\n",
              "      <td>682.000122</td>\n",
              "      <td>754.700116</td>\n",
              "      <td>2182.966982</td>\n",
              "      <td>7.401012e-12</td>\n",
              "      <td>558.004102</td>\n",
              "      <td>809.008313</td>\n",
              "      <td>1002.009210</td>\n",
              "      <td>1175.000195</td>\n",
              "      <td>1327.996887</td>\n",
              "      <td>1486.795728</td>\n",
              "      <td>1666.104956</td>\n",
              "      <td>1884.994067</td>\n",
              "      <td>2220.990137</td>\n",
              "      <td>5544.670485</td>\n",
              "      <td>357.712450</td>\n",
              "      <td>0.378483</td>\n",
              "      <td>0.041085</td>\n",
              "      <td>0.025753</td>\n",
              "      <td>0.626835</td>\n",
              "      <td>1968</td>\n",
              "      <td>8.0</td>\n",
              "      <td>3</td>\n",
              "    </tr>\n",
              "    <tr>\n",
              "      <th>2</th>\n",
              "      <td>FFFCEFB11E257364</td>\n",
              "      <td>2200313961</td>\n",
              "      <td>165752898</td>\n",
              "      <td>0.000000</td>\n",
              "      <td>343.996613</td>\n",
              "      <td>567.010620</td>\n",
              "      <td>745.995483</td>\n",
              "      <td>900.997925</td>\n",
              "      <td>1051.995361</td>\n",
              "      <td>1200.006226</td>\n",
              "      <td>1370.990234</td>\n",
              "      <td>1590.001099</td>\n",
              "      <td>1905.991516</td>\n",
              "      <td>7074.674140</td>\n",
              "      <td>0.000000</td>\n",
              "      <td>291.003632</td>\n",
              "      <td>458.000061</td>\n",
              "      <td>579.999023</td>\n",
              "      <td>685.998840</td>\n",
              "      <td>780.000336</td>\n",
              "      <td>878.996094</td>\n",
              "      <td>992.996582</td>\n",
              "      <td>1149.010254</td>\n",
              "      <td>1425.496948</td>\n",
              "      <td>8340.301104</td>\n",
              "      <td>214.000305</td>\n",
              "      <td>472.000015</td>\n",
              "      <td>508.000153</td>\n",
              "      <td>539.000061</td>\n",
              "      <td>567.999878</td>\n",
              "      <td>591.000000</td>\n",
              "      <td>614.999695</td>\n",
              "      <td>638.999847</td>\n",
              "      <td>670.999939</td>\n",
              "      <td>722.999695</td>\n",
              "      <td>1542.247090</td>\n",
              "      <td>0.000000e+00</td>\n",
              "      <td>489.004868</td>\n",
              "      <td>776.002319</td>\n",
              "      <td>992.004883</td>\n",
              "      <td>1186.992432</td>\n",
              "      <td>1364.991089</td>\n",
              "      <td>1551.001343</td>\n",
              "      <td>1759.008057</td>\n",
              "      <td>2022.004272</td>\n",
              "      <td>2421.002441</td>\n",
              "      <td>8827.104856</td>\n",
              "      <td>160.979017</td>\n",
              "      <td>0.306545</td>\n",
              "      <td>0.034637</td>\n",
              "      <td>0.054977</td>\n",
              "      <td>1.587207</td>\n",
              "      <td>1968</td>\n",
              "      <td>5.0</td>\n",
              "      <td>7</td>\n",
              "    </tr>\n",
              "    <tr>\n",
              "      <th>3</th>\n",
              "      <td>596C5C8CE10BCF</td>\n",
              "      <td>2199220382</td>\n",
              "      <td>166288192</td>\n",
              "      <td>0.000000</td>\n",
              "      <td>173.999956</td>\n",
              "      <td>218.000000</td>\n",
              "      <td>261.999713</td>\n",
              "      <td>315.999951</td>\n",
              "      <td>408.000565</td>\n",
              "      <td>560.000500</td>\n",
              "      <td>700.697351</td>\n",
              "      <td>863.000671</td>\n",
              "      <td>1200.897534</td>\n",
              "      <td>7689.470151</td>\n",
              "      <td>0.000006</td>\n",
              "      <td>251.000169</td>\n",
              "      <td>291.999847</td>\n",
              "      <td>328.000739</td>\n",
              "      <td>369.998914</td>\n",
              "      <td>434.998367</td>\n",
              "      <td>545.000671</td>\n",
              "      <td>664.699524</td>\n",
              "      <td>792.998560</td>\n",
              "      <td>1068.003235</td>\n",
              "      <td>7690.967231</td>\n",
              "      <td>3.000620</td>\n",
              "      <td>130.999969</td>\n",
              "      <td>151.000061</td>\n",
              "      <td>175.999939</td>\n",
              "      <td>206.000137</td>\n",
              "      <td>242.000015</td>\n",
              "      <td>318.000031</td>\n",
              "      <td>367.999969</td>\n",
              "      <td>457.000299</td>\n",
              "      <td>691.000049</td>\n",
              "      <td>1713.185116</td>\n",
              "      <td>5.006439e+00</td>\n",
              "      <td>1307.006531</td>\n",
              "      <td>1527.999072</td>\n",
              "      <td>1675.999512</td>\n",
              "      <td>1798.999854</td>\n",
              "      <td>1924.994751</td>\n",
              "      <td>2054.998730</td>\n",
              "      <td>2212.999951</td>\n",
              "      <td>2422.002002</td>\n",
              "      <td>2752.005786</td>\n",
              "      <td>7734.759269</td>\n",
              "      <td>9088.678448</td>\n",
              "      <td>0.338955</td>\n",
              "      <td>0.006846</td>\n",
              "      <td>0.005448</td>\n",
              "      <td>0.795725</td>\n",
              "      <td>1993</td>\n",
              "      <td>6.0</td>\n",
              "      <td>6</td>\n",
              "    </tr>\n",
              "    <tr>\n",
              "      <th>4</th>\n",
              "      <td>F931B9FA2A8641D1</td>\n",
              "      <td>2209143550</td>\n",
              "      <td>165253334</td>\n",
              "      <td>0.000007</td>\n",
              "      <td>588.002014</td>\n",
              "      <td>738.999451</td>\n",
              "      <td>848.001282</td>\n",
              "      <td>954.000244</td>\n",
              "      <td>1074.000183</td>\n",
              "      <td>1228.998291</td>\n",
              "      <td>1416.999817</td>\n",
              "      <td>1639.999268</td>\n",
              "      <td>1937.999329</td>\n",
              "      <td>7535.480762</td>\n",
              "      <td>0.000013</td>\n",
              "      <td>513.999084</td>\n",
              "      <td>645.999207</td>\n",
              "      <td>739.015839</td>\n",
              "      <td>831.997925</td>\n",
              "      <td>931.005920</td>\n",
              "      <td>1050.008301</td>\n",
              "      <td>1203.999451</td>\n",
              "      <td>1395.999023</td>\n",
              "      <td>1677.999146</td>\n",
              "      <td>7280.822226</td>\n",
              "      <td>47.000126</td>\n",
              "      <td>398.000137</td>\n",
              "      <td>462.999939</td>\n",
              "      <td>512.006744</td>\n",
              "      <td>571.000061</td>\n",
              "      <td>633.000397</td>\n",
              "      <td>706.000061</td>\n",
              "      <td>796.000000</td>\n",
              "      <td>910.001160</td>\n",
              "      <td>1102.999512</td>\n",
              "      <td>2955.738621</td>\n",
              "      <td>2.748954e-04</td>\n",
              "      <td>1103.002808</td>\n",
              "      <td>1350.003296</td>\n",
              "      <td>1535.006531</td>\n",
              "      <td>1692.002075</td>\n",
              "      <td>1839.000488</td>\n",
              "      <td>1996.000000</td>\n",
              "      <td>2159.998657</td>\n",
              "      <td>2366.000000</td>\n",
              "      <td>2712.997681</td>\n",
              "      <td>7435.991490</td>\n",
              "      <td>994.424368</td>\n",
              "      <td>0.581476</td>\n",
              "      <td>0.036470</td>\n",
              "      <td>0.016033</td>\n",
              "      <td>0.439638</td>\n",
              "      <td>1964</td>\n",
              "      <td>4.0</td>\n",
              "      <td>7</td>\n",
              "    </tr>\n",
              "  </tbody>\n",
              "</table>\n",
              "</div>"
            ],
            "text/plain": [
              "                 ID           X  ...  MAXBUILDINGFLOOR  CADASTRALQUALITYID\n",
              "0  44198C2A811A4DF4  2200905624  ...               5.0                   4\n",
              "1  216F638609E0E39E  2207436564  ...               8.0                   3\n",
              "2  FFFCEFB11E257364  2200313961  ...               5.0                   7\n",
              "3    596C5C8CE10BCF  2199220382  ...               6.0                   6\n",
              "4  F931B9FA2A8641D1  2209143550  ...               4.0                   7\n",
              "\n",
              "[5 rows x 55 columns]"
            ]
          },
          "metadata": {},
          "execution_count": 77
        }
      ]
    },
    {
      "cell_type": "code",
      "metadata": {
        "colab": {
          "base_uri": "https://localhost:8080/"
        },
        "id": "o90cYQ-NWf0o",
        "outputId": "aa6ec179-c35b-4188-ecd9-d1fc7f5345f4"
      },
      "source": [
        "df_2.isnull().sum() #Solo hay 7 filas con Nan por lo que se opta por eliminarlos."
      ],
      "execution_count": null,
      "outputs": [
        {
          "output_type": "execute_result",
          "data": {
            "text/plain": [
              "ID                    0\n",
              "X                     0\n",
              "Y                     0\n",
              "Q_R_4_0_0             0\n",
              "Q_R_4_0_1             0\n",
              "Q_R_4_0_2             0\n",
              "Q_R_4_0_3             0\n",
              "Q_R_4_0_4             0\n",
              "Q_R_4_0_5             0\n",
              "Q_R_4_0_6             0\n",
              "Q_R_4_0_7             0\n",
              "Q_R_4_0_8             0\n",
              "Q_R_4_0_9             0\n",
              "Q_R_4_1_0             0\n",
              "Q_G_3_0_0             0\n",
              "Q_G_3_0_1             0\n",
              "Q_G_3_0_2             0\n",
              "Q_G_3_0_3             0\n",
              "Q_G_3_0_4             0\n",
              "Q_G_3_0_5             0\n",
              "Q_G_3_0_6             0\n",
              "Q_G_3_0_7             0\n",
              "Q_G_3_0_8             0\n",
              "Q_G_3_0_9             0\n",
              "Q_G_3_1_0             0\n",
              "Q_B_2_0_0             0\n",
              "Q_B_2_0_1             0\n",
              "Q_B_2_0_2             0\n",
              "Q_B_2_0_3             0\n",
              "Q_B_2_0_4             0\n",
              "Q_B_2_0_5             0\n",
              "Q_B_2_0_6             0\n",
              "Q_B_2_0_7             0\n",
              "Q_B_2_0_8             0\n",
              "Q_B_2_0_9             0\n",
              "Q_B_2_1_0             0\n",
              "Q_NIR_8_0_0           0\n",
              "Q_NIR_8_0_1           0\n",
              "Q_NIR_8_0_2           0\n",
              "Q_NIR_8_0_3           0\n",
              "Q_NIR_8_0_4           0\n",
              "Q_NIR_8_0_5           0\n",
              "Q_NIR_8_0_6           0\n",
              "Q_NIR_8_0_7           0\n",
              "Q_NIR_8_0_8           0\n",
              "Q_NIR_8_0_9           0\n",
              "Q_NIR_8_1_0           0\n",
              "AREA                  0\n",
              "GEOM_R1               0\n",
              "GEOM_R2               0\n",
              "GEOM_R3               0\n",
              "GEOM_R4               0\n",
              "CONTRUCTIONYEAR       0\n",
              "MAXBUILDINGFLOOR      0\n",
              "CADASTRALQUALITYID    0\n",
              "dtype: int64"
            ]
          },
          "metadata": {},
          "execution_count": 82
        }
      ]
    },
    {
      "cell_type": "code",
      "metadata": {
        "id": "uPHUpB-gWmTh"
      },
      "source": [
        "df_2.dropna(inplace=True) "
      ],
      "execution_count": null,
      "outputs": []
    },
    {
      "cell_type": "code",
      "metadata": {
        "colab": {
          "base_uri": "https://localhost:8080/"
        },
        "id": "S1oTebASWmW4",
        "outputId": "7bcbc34e-c9b1-4a17-dbc3-71256af1a18b"
      },
      "source": [
        "df_2.CADASTRALQUALITYID.unique() #LabelEncoder"
      ],
      "execution_count": null,
      "outputs": [
        {
          "output_type": "execute_result",
          "data": {
            "text/plain": [
              "array([ 3,  2,  6,  5,  4,  1,  7,  0, 11,  8,  9, 10])"
            ]
          },
          "metadata": {},
          "execution_count": 85
        }
      ]
    },
    {
      "cell_type": "code",
      "metadata": {
        "id": "i1yMA-GmWmaB"
      },
      "source": [
        "number_3 = LabelEncoder()\n",
        "df_2['CADASTRALQUALITYID'] = number_3.fit_transform(df_2['CADASTRALQUALITYID'].astype(str))"
      ],
      "execution_count": null,
      "outputs": []
    },
    {
      "cell_type": "code",
      "metadata": {
        "id": "sOK_eIs0WmdE"
      },
      "source": [
        "X_test_Es =df.drop(['ID','GEOM_R1','GEOM_R2','GEOM_R3','GEOM_R4'],axis=1)"
      ],
      "execution_count": null,
      "outputs": []
    },
    {
      "cell_type": "code",
      "metadata": {
        "colab": {
          "base_uri": "https://localhost:8080/"
        },
        "id": "YqebbSGTWmi-",
        "outputId": "f051af99-4cda-4d04-d7a2-8220637b267f"
      },
      "source": [
        "predicted_rf_Es = RFC_model_2.predict(X_test_Es)\n",
        "predicted_rf_Es"
      ],
      "execution_count": null,
      "outputs": [
        {
          "output_type": "execute_result",
          "data": {
            "text/plain": [
              "array([5, 5, 5, ..., 5, 5, 5])"
            ]
          },
          "metadata": {},
          "execution_count": 88
        }
      ]
    },
    {
      "cell_type": "code",
      "source": [
        "#Guardamos la predicción en formato csv\n",
        "pd.DataFrame(predicted_rf_Es).to_csv(\"/content/prediccion.csv\")"
      ],
      "metadata": {
        "id": "LV8HymjIkTfJ"
      },
      "execution_count": null,
      "outputs": []
    },
    {
      "cell_type": "code",
      "source": [
        "#Guardamos el modelo en formato pickle\n",
        "pickle.dump(model, open('model.pkl', 'wb'))\n"
      ],
      "metadata": {
        "id": "Fuisd_n5kkx6"
      },
      "execution_count": null,
      "outputs": []
    }
  ]
}